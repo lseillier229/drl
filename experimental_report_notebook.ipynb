{
 "cells": [
  {
   "cell_type": "markdown",
   "metadata": {},
   "source": [
    "# Rapport Expérimental - Algorithmes d'Apprentissage par Renforcement\n",
    "\n",
    "**Projet**: (Deep) Reinforcement Learning P1  \n",
    "**Année**: 2024-2025  \n",
    "**Enseignant**: Nicolas VIDAL (nvidal@myges.fr)\n",
    "\n",
    "---\n",
    "\n",
    "## Table des Matières\n",
    "\n",
    "1. [Introduction et Objectifs](#introduction)\n",
    "2. [Environnements Implémentés](#environnements)\n",
    "3. [Algorithmes Implémentés](#algorithmes)\n",
    "4. [Expérimentations et Résultats](#experimentations)\n",
    "5. [Étude des Hyperparamètres](#hyperparametres)\n",
    "6. [Analyse Comparative](#analyse)\n",
    "7. [Environnements Secrets](#secrets)\n",
    "8. [Conclusions et Recommandations](#conclusions)\n",
    "\n",
    "---\n",
    "\n",
    "## 1. Introduction et Objectifs <a id=\"introduction\"></a>\n",
    "\n",
    "Ce projet vise à implémenter et comparer les algorithmes classiques d'apprentissage par renforcement :\n",
    "\n",
    "- **Dynamic Programming** : Policy Iteration, Value Iteration\n",
    "- **Monte Carlo** : ES, On-policy, Off-policy\n",
    "- **Temporal Difference** : SARSA, Q-Learning, Expected SARSA\n",
    "- **Planning** : Dyna-Q, Dyna-Q+\n",
    "\n",
    "### Questions de recherche\n",
    "\n",
    "1. Quel algorithme est le plus performant sur quel environnement ?\n",
    "2. Comment les hyperparamètres affectent-ils les performances ?\n",
    "3. Quels sont les compromis vitesse/qualité pour chaque méthode ?\n",
    "4. Comment adapter les stratégies aux environnements inconnus ?"
   ]
  },
  {
   "cell_type": "markdown",
   "metadata": {},
   "source": [
    "## Setup et Imports"
   ]
  },
  {
   "cell_type": "code",
   "execution_count": 13,
   "metadata": {},
   "outputs": [
    {
     "name": "stdout",
     "output_type": "stream",
     "text": [
      "Collecting tqdm\n",
      "  Downloading tqdm-4.67.1-py3-none-any.whl (78 kB)\n",
      "     ---------------------------------------- 78.5/78.5 kB 2.2 MB/s eta 0:00:00\n",
      "Requirement already satisfied: colorama in c:\\users\\lseil\\pycharmprojects\\drl\\venv\\lib\\site-packages (from tqdm) (0.4.6)\n",
      "Installing collected packages: tqdm\n",
      "Successfully installed tqdm-4.67.1\n",
      "Note: you may need to restart the kernel to use updated packages.\n"
     ]
    },
    {
     "name": "stderr",
     "output_type": "stream",
     "text": [
      "\n",
      "[notice] A new release of pip available: 22.3.1 -> 25.1.1\n",
      "[notice] To update, run: python.exe -m pip install --upgrade pip\n"
     ]
    }
   ],
   "source": [
    "pip install tqdm\n"
   ]
  },
  {
   "cell_type": "code",
   "execution_count": 1,
   "metadata": {},
   "outputs": [
    {
     "name": "stdout",
     "output_type": "stream",
     "text": [
      "Setup terminé\n"
     ]
    }
   ],
   "source": [
    "import numpy as np\n",
    "import pandas as pd\n",
    "import matplotlib.pyplot as plt\n",
    "import seaborn as sns\n",
    "from collections import defaultdict\n",
    "import time\n",
    "import pickle\n",
    "from pathlib import Path\n",
    "\n",
    "# Configuration matplotlib\n",
    "plt.style.use('seaborn-v0_8-darkgrid')\n",
    "plt.rcParams['figure.figsize'] = (12, 8)\n",
    "plt.rcParams['font.size'] = 11\n",
    "\n",
    "# Imports du projet\n",
    "from envs import LineWorld, GridWorld, RPS, MontyHall1, MontyHall2\n",
    "from algos import (\n",
    "    policy_iteration, value_iteration, build_model_from_env,\n",
    "    mc_control_es, on_policy_first_visit_mc_control, off_policy_mc_control,\n",
    "    sarsa, q_learning, expected_sarsa,\n",
    "    dyna_q, dyna_q_plus\n",
    ")\n",
    "from visualization import EnvironmentVisualizer, PolicyManager\n",
    "\n",
    "print(\"Setup terminé\")"
   ]
  },
  {
   "cell_type": "markdown",
   "metadata": {},
   "source": [
    "## 2. Environnements Implémentés <a id=\"environnements\"></a>\n",
    "\n",
    "### 2.1 LineWorld\n",
    "\n",
    "Un monde linéaire simple avec 5 états. L'agent commence au milieu et doit atteindre l'extrémité droite (+1) en évitant l'extrémité gauche (-1)."
   ]
  },
  {
   "cell_type": "code",
   "execution_count": 2,
   "metadata": {},
   "outputs": [
    {
     "name": "stdout",
     "output_type": "stream",
     "text": [
      "LineWorld : 5 états, 2 actions\n",
      "Actions : 0=Gauche, 1=Droite\n",
      "\n",
      "Simulation d'un épisode optimal :\n"
     ]
    },
    {
     "data": {
      "image/png": "[encoded data removed]",
      "text/plain": [
       "<Figure size 1000x300 with 1 Axes>"
      ]
     },
     "metadata": {},
     "output_type": "display_data"
    },
    {
     "name": "stdout",
     "output_type": "stream",
     "text": [
      "\n",
      "Score final : 1.0, en 2 étapes\n",
      "Stratégie optimale : toujours aller à droite (action=1)\n"
     ]
    }
   ],
   "source": [
    "# Démonstration LineWorld\n",
    "env = LineWorld()\n",
    "print(f\"LineWorld : {env.num_states()} états, {env.num_actions()} actions\")\n",
    "print(f\"Actions : 0=Gauche, 1=Droite\")\n",
    "print(f\"\\nSimulation d'un épisode optimal :\")\n",
    "\n",
    "env.reset()\n",
    "visualizer = EnvironmentVisualizer(env)\n",
    "visualizer.visualize_state()\n",
    "plt.title(\"LineWorld - État Initial\")\n",
    "plt.show()\n",
    "\n",
    "# Stratégie optimale : toujours aller à droite\n",
    "steps = 0\n",
    "while not env.is_game_over() and steps < 10:\n",
    "    action = 1  # Droite\n",
    "    env.step(action)\n",
    "    steps += 1\n",
    "\n",
    "print(f\"\\nScore final : {env.score()}, en {steps} étapes\")\n",
    "print(f\"Stratégie optimale : toujours aller à droite (action=1)\")"
   ]
  },
  {
   "cell_type": "markdown",
   "metadata": {},
   "source": [
    "### 2.2 GridWorld\n",
    "\n",
    "Une grille 5×5 avec deux états terminaux : un piège en (0,4) avec récompense -3, et un objectif en (4,4) avec récompense +1."
   ]
  },
  {
   "cell_type": "code",
   "execution_count": 3,
   "metadata": {},
   "outputs": [
    {
     "name": "stdout",
     "output_type": "stream",
     "text": [
      "GridWorld : 25 états, 4 actions\n",
      "Actions : 0=UP, 1=RIGHT, 2=DOWN, 3=LEFT\n"
     ]
    },
    {
     "data": {
      "image/png": "[encoded data removed]",
      "text/plain": [
       "<Figure size 800x800 with 1 Axes>"
      ]
     },
     "metadata": {},
     "output_type": "display_data"
    },
    {
     "name": "stdout",
     "output_type": "stream",
     "text": [
      "\n",
      "Stratégie optimale : Aller vers le coin inférieur droit en évitant le piège\n",
      "   Chemin suggéré : 4×RIGHT + 4×DOWN\n"
     ]
    }
   ],
   "source": [
    "# Démonstration GridWorld\n",
    "env = GridWorld()\n",
    "print(f\"GridWorld : {env.num_states()} états, {env.num_actions()} actions\")\n",
    "print(f\"Actions : 0=UP, 1=RIGHT, 2=DOWN, 3=LEFT\")\n",
    "\n",
    "# Visualisation de l'environnement\n",
    "env.reset()\n",
    "visualizer = EnvironmentVisualizer(env)\n",
    "visualizer.visualize_state()\n",
    "plt.title(\"GridWorld - Configuration\")\n",
    "plt.show()\n",
    "\n",
    "# Chemin optimal\n",
    "print(\"\\nStratégie optimale : Aller vers le coin inférieur droit en évitant le piège\")\n",
    "print(\"   Chemin suggéré : 4×RIGHT + 4×DOWN\")"
   ]
  },
  {
   "cell_type": "markdown",
   "metadata": {},
   "source": [
    "### 2.3 Rock-Paper-Scissors (RPS)\n",
    "\n",
    "Jeu en 2 manches :\n",
    "- Manche 1 : l'adversaire joue aléatoirement\n",
    "- Manche 2 : l'adversaire copie votre coup de la manche 1"
   ]
  },
  {
   "cell_type": "code",
   "execution_count": 4,
   "metadata": {},
   "outputs": [
    {
     "name": "stdout",
     "output_type": "stream",
     "text": [
      "Rock-Paper-Scissors : 48 états, 3 actions\n",
      "Actions : 0=ROCK, 1=PAPER, 2=SCISSORS\n",
      "\n",
      "Analyse de la stratégie optimale :\n",
      "1. Manche 1 : Peu importe (adversaire aléatoire)\n",
      "2. Manche 2 : Jouer ce qui bat notre coup de manche 1\n",
      "\n",
      "Exemple : Si on joue ROCK en manche 1, jouer PAPER en manche 2\n",
      "\n",
      "Résultats sur 1000 parties : 67.8% de victoires\n",
      "   (Attendu : ~50% car la manche 1 est aléatoire)\n"
     ]
    }
   ],
   "source": [
    "# Analyse du RPS\n",
    "env = RPS()\n",
    "print(f\"Rock-Paper-Scissors : {env.num_states()} états, {env.num_actions()} actions\")\n",
    "print(f\"Actions : 0=ROCK, 1=PAPER, 2=SCISSORS\")\n",
    "\n",
    "# Simulation de la stratégie optimale\n",
    "print(\"\\nAnalyse de la stratégie optimale :\")\n",
    "print(\"1. Manche 1 : Peu importe (adversaire aléatoire)\")\n",
    "print(\"2. Manche 2 : Jouer ce qui bat notre coup de manche 1\")\n",
    "print(\"\\nExemple : Si on joue ROCK en manche 1, jouer PAPER en manche 2\")\n",
    "\n",
    "# Test de la stratégie\n",
    "wins = 0\n",
    "num_tests = 1000\n",
    "for _ in range(num_tests):\n",
    "    env.reset()\n",
    "    env.step(0)\n",
    "    env.step(1)\n",
    "    if env.score() > 0:\n",
    "        wins += 1\n",
    "\n",
    "print(f\"\\nRésultats sur {num_tests} parties : {wins/num_tests:.1%} de victoires\")\n",
    "print(f\"   (Attendu : ~50% car la manche 1 est aléatoire)\")"
   ]
  },
  {
   "cell_type": "markdown",
   "metadata": {},
   "source": [
    "### 2.4 Monty Hall\n",
    "\n",
    "Le célèbre paradoxe de Monty Hall, implémenté avec 3 portes (MontyHall1) et 5 portes (MontyHall2)."
   ]
  },
  {
   "cell_type": "code",
   "execution_count": 5,
   "metadata": {},
   "outputs": [
    {
     "name": "stdout",
     "output_type": "stream",
     "text": [
      "Monty Hall (3 portes) : 96 états, 3 actions\n",
      "\n",
      "Résultats des stratégies :\n",
      "   Toujours garder      : 33.1%\n",
      "   Toujours changer     : 32.7%\n",
      "\n",
      "Conclusion : Il vaut mieux toujours changer de porte !\n"
     ]
    }
   ],
   "source": [
    "# Analyse du paradoxe de Monty Hall\n",
    "env = MontyHall1()\n",
    "print(f\"Monty Hall (3 portes) : {env.num_states()} états, {env.num_actions()} actions\")\n",
    "\n",
    "# Test des deux stratégies\n",
    "strategies = {\n",
    "    \"Toujours garder\": lambda first_choice, available: first_choice,\n",
    "    \"Toujours changer\": lambda first_choice, available: available[0] if available[0] != first_choice else available[1]\n",
    "}\n",
    "\n",
    "results = {}\n",
    "num_simulations = 10000\n",
    "\n",
    "for strategy_name, strategy_func in strategies.items():\n",
    "    wins = 0\n",
    "    for _ in range(num_simulations):\n",
    "        env.reset()\n",
    "        \n",
    "        # Première action : choisir une porte (ex: porte 0)\n",
    "        first_choice = 0\n",
    "        env.step(first_choice)\n",
    "        \n",
    "        # Deuxième action : appliquer la stratégie\n",
    "        # Dans notre implémentation simplifiée, on suppose que Monty ouvre toujours une porte\n",
    "        # et qu'il reste 2 choix possibles\n",
    "        if strategy_name == \"Toujours changer\":\n",
    "            # Changer pour une autre porte\n",
    "            env.step(1 if first_choice != 1 else 2)\n",
    "        else:\n",
    "            # Garder la même porte\n",
    "            env.step(first_choice)\n",
    "        \n",
    "        if env.score() > 0:\n",
    "            wins += 1\n",
    "    \n",
    "    results[strategy_name] = wins / num_simulations\n",
    "\n",
    "print(\"\\nRésultats des stratégies :\")\n",
    "for strategy, win_rate in results.items():\n",
    "    print(f\"   {strategy:20} : {win_rate:.1%}\")\n",
    "print(\"\\nConclusion : Il vaut mieux toujours changer de porte !\")"
   ]
  },
  {
   "cell_type": "markdown",
   "metadata": {},
   "source": [
    "## 3. Algorithmes Implémentés <a id=\"algorithmes\"></a>\n",
    "\n",
    "### Vue d'ensemble des familles d'algorithmes"
   ]
  },
  {
   "cell_type": "code",
   "execution_count": 6,
   "metadata": {},
   "outputs": [
    {
     "name": "stdout",
     "output_type": "stream",
     "text": [
      "Tableau comparatif des algorithmes :\n"
     ]
    },
    {
     "data": {
      "text/html": [
       "<div>\n",
       "<style scoped>\n",
       "    .dataframe tbody tr th:only-of-type {\n",
       "        vertical-align: middle;\n",
       "    }\n",
       "\n",
       "    .dataframe tbody tr th {\n",
       "        vertical-align: top;\n",
       "    }\n",
       "\n",
       "    .dataframe thead th {\n",
       "        text-align: right;\n",
       "    }\n",
       "</style>\n",
       "<table border=\"1\" class=\"dataframe\">\n",
       "  <thead>\n",
       "    <tr style=\"text-align: right;\">\n",
       "      <th></th>\n",
       "      <th>Famille</th>\n",
       "      <th>Algorithme</th>\n",
       "      <th>Type</th>\n",
       "      <th>Complexité</th>\n",
       "      <th>Convergence</th>\n",
       "    </tr>\n",
       "  </thead>\n",
       "  <tbody>\n",
       "    <tr>\n",
       "      <th>0</th>\n",
       "      <td>Dynamic Programming</td>\n",
       "      <td>Policy Iteration</td>\n",
       "      <td>Model-based</td>\n",
       "      <td>O(S²A)</td>\n",
       "      <td>Garantie</td>\n",
       "    </tr>\n",
       "    <tr>\n",
       "      <th>1</th>\n",
       "      <td>Dynamic Programming</td>\n",
       "      <td>Value Iteration</td>\n",
       "      <td>Model-based</td>\n",
       "      <td>O(S²A)</td>\n",
       "      <td>Garantie</td>\n",
       "    </tr>\n",
       "    <tr>\n",
       "      <th>2</th>\n",
       "      <td>Monte Carlo</td>\n",
       "      <td>MC ES</td>\n",
       "      <td>Model-free</td>\n",
       "      <td>O(episodes)</td>\n",
       "      <td>Asymptotique</td>\n",
       "    </tr>\n",
       "    <tr>\n",
       "      <th>3</th>\n",
       "      <td>Monte Carlo</td>\n",
       "      <td>On-policy MC</td>\n",
       "      <td>Model-free</td>\n",
       "      <td>O(episodes)</td>\n",
       "      <td>Asymptotique</td>\n",
       "    </tr>\n",
       "    <tr>\n",
       "      <th>4</th>\n",
       "      <td>Monte Carlo</td>\n",
       "      <td>Off-policy MC</td>\n",
       "      <td>Model-free</td>\n",
       "      <td>O(episodes)</td>\n",
       "      <td>Asymptotique</td>\n",
       "    </tr>\n",
       "    <tr>\n",
       "      <th>5</th>\n",
       "      <td>Temporal Difference</td>\n",
       "      <td>SARSA</td>\n",
       "      <td>Model-free</td>\n",
       "      <td>O(1) par step</td>\n",
       "      <td>Asymptotique</td>\n",
       "    </tr>\n",
       "    <tr>\n",
       "      <th>6</th>\n",
       "      <td>Temporal Difference</td>\n",
       "      <td>Q-Learning</td>\n",
       "      <td>Model-free</td>\n",
       "      <td>O(1) par step</td>\n",
       "      <td>Garantie*</td>\n",
       "    </tr>\n",
       "    <tr>\n",
       "      <th>7</th>\n",
       "      <td>Temporal Difference</td>\n",
       "      <td>Expected SARSA</td>\n",
       "      <td>Model-free</td>\n",
       "      <td>O(A) par step</td>\n",
       "      <td>Asymptotique</td>\n",
       "    </tr>\n",
       "    <tr>\n",
       "      <th>8</th>\n",
       "      <td>Planning</td>\n",
       "      <td>Dyna-Q</td>\n",
       "      <td>Model-based</td>\n",
       "      <td>O(n) par step</td>\n",
       "      <td>Asymptotique</td>\n",
       "    </tr>\n",
       "    <tr>\n",
       "      <th>9</th>\n",
       "      <td>Planning</td>\n",
       "      <td>Dyna-Q+</td>\n",
       "      <td>Model-based</td>\n",
       "      <td>O(n) par step</td>\n",
       "      <td>Asymptotique</td>\n",
       "    </tr>\n",
       "  </tbody>\n",
       "</table>\n",
       "</div>"
      ],
      "text/plain": [
       "               Famille        Algorithme         Type     Complexité  \\\n",
       "0  Dynamic Programming  Policy Iteration  Model-based         O(S²A)   \n",
       "1  Dynamic Programming   Value Iteration  Model-based         O(S²A)   \n",
       "2          Monte Carlo             MC ES   Model-free    O(episodes)   \n",
       "3          Monte Carlo      On-policy MC   Model-free    O(episodes)   \n",
       "4          Monte Carlo     Off-policy MC   Model-free    O(episodes)   \n",
       "5  Temporal Difference             SARSA   Model-free  O(1) par step   \n",
       "6  Temporal Difference        Q-Learning   Model-free  O(1) par step   \n",
       "7  Temporal Difference    Expected SARSA   Model-free  O(A) par step   \n",
       "8             Planning            Dyna-Q  Model-based  O(n) par step   \n",
       "9             Planning           Dyna-Q+  Model-based  O(n) par step   \n",
       "\n",
       "    Convergence  \n",
       "0      Garantie  \n",
       "1      Garantie  \n",
       "2  Asymptotique  \n",
       "3  Asymptotique  \n",
       "4  Asymptotique  \n",
       "5  Asymptotique  \n",
       "6     Garantie*  \n",
       "7  Asymptotique  \n",
       "8  Asymptotique  \n",
       "9  Asymptotique  "
      ]
     },
     "metadata": {},
     "output_type": "display_data"
    },
    {
     "name": "stdout",
     "output_type": "stream",
     "text": [
      "\n",
      "* Q-Learning converge vers Q* sous conditions (exploration infinie, learning rate décroissant)\n"
     ]
    }
   ],
   "source": [
    "# Tableau récapitulatif des algorithmes\n",
    "algorithms_info = pd.DataFrame([\n",
    "    {\"Famille\": \"Dynamic Programming\", \"Algorithme\": \"Policy Iteration\", \n",
    "     \"Type\": \"Model-based\", \"Complexité\": \"O(S²A)\", \"Convergence\": \"Garantie\"},\n",
    "    {\"Famille\": \"Dynamic Programming\", \"Algorithme\": \"Value Iteration\", \n",
    "     \"Type\": \"Model-based\", \"Complexité\": \"O(S²A)\", \"Convergence\": \"Garantie\"},\n",
    "    {\"Famille\": \"Monte Carlo\", \"Algorithme\": \"MC ES\", \n",
    "     \"Type\": \"Model-free\", \"Complexité\": \"O(episodes)\", \"Convergence\": \"Asymptotique\"},\n",
    "    {\"Famille\": \"Monte Carlo\", \"Algorithme\": \"On-policy MC\", \n",
    "     \"Type\": \"Model-free\", \"Complexité\": \"O(episodes)\", \"Convergence\": \"Asymptotique\"},\n",
    "    {\"Famille\": \"Monte Carlo\", \"Algorithme\": \"Off-policy MC\", \n",
    "     \"Type\": \"Model-free\", \"Complexité\": \"O(episodes)\", \"Convergence\": \"Asymptotique\"},\n",
    "    {\"Famille\": \"Temporal Difference\", \"Algorithme\": \"SARSA\", \n",
    "     \"Type\": \"Model-free\", \"Complexité\": \"O(1) par step\", \"Convergence\": \"Asymptotique\"},\n",
    "    {\"Famille\": \"Temporal Difference\", \"Algorithme\": \"Q-Learning\", \n",
    "     \"Type\": \"Model-free\", \"Complexité\": \"O(1) par step\", \"Convergence\": \"Garantie*\"},\n",
    "    {\"Famille\": \"Temporal Difference\", \"Algorithme\": \"Expected SARSA\", \n",
    "     \"Type\": \"Model-free\", \"Complexité\": \"O(A) par step\", \"Convergence\": \"Asymptotique\"},\n",
    "    {\"Famille\": \"Planning\", \"Algorithme\": \"Dyna-Q\", \n",
    "     \"Type\": \"Model-based\", \"Complexité\": \"O(n) par step\", \"Convergence\": \"Asymptotique\"},\n",
    "    {\"Famille\": \"Planning\", \"Algorithme\": \"Dyna-Q+\", \n",
    "     \"Type\": \"Model-based\", \"Complexité\": \"O(n) par step\", \"Convergence\": \"Asymptotique\"},\n",
    "])\n",
    "\n",
    "print(\"Tableau comparatif des algorithmes :\")\n",
    "display(algorithms_info)\n",
    "\n",
    "print(\"\\n* Q-Learning converge vers Q* sous conditions (exploration infinie, learning rate décroissant)\")"
   ]
  },
  {
   "cell_type": "markdown",
   "metadata": {},
   "source": [
    "## 4. Expérimentations et Résultats <a id=\"experimentations\"></a>\n",
    "\n",
    "### 4.1 Protocole expérimental"
   ]
  },
  {
   "cell_type": "code",
   "execution_count": 7,
   "metadata": {},
   "outputs": [
    {
     "name": "stdout",
     "output_type": "stream",
     "text": [
      "ExperimentRunner initialisé\n"
     ]
    }
   ],
   "source": [
    "# Définition du protocole expérimental\n",
    "class ExperimentRunner:\n",
    "    def __init__(self):\n",
    "        self.environments = {\n",
    "            'lineworld': LineWorld,\n",
    "            'gridworld': GridWorld,\n",
    "            'rps': RPS,\n",
    "            'montyhall1': MontyHall1,\n",
    "            'montyhall2': MontyHall2\n",
    "        }\n",
    "        \n",
    "        self.algorithms = {\n",
    "            'policy_iteration': self.run_policy_iteration,\n",
    "            'value_iteration': self.run_value_iteration,\n",
    "            'mc_es': self.run_mc_es,\n",
    "            'mc_on_policy': self.run_mc_on_policy,\n",
    "            'mc_off_policy': self.run_mc_off_policy,\n",
    "            'sarsa': self.run_sarsa,\n",
    "            'q_learning': self.run_q_learning,\n",
    "            'expected_sarsa': self.run_expected_sarsa,\n",
    "            'dyna_q': self.run_dyna_q\n",
    "        }\n",
    "        \n",
    "        self.default_params = {\n",
    "            'num_episodes': 1000,\n",
    "            'gamma': 1.0,\n",
    "            'alpha': 0.1,\n",
    "            'epsilon_start': 1.0,\n",
    "            'epsilon_decay': 0.995,\n",
    "            'n_planning_steps': 50\n",
    "        }\n",
    "    \n",
    "    def evaluate_policy(self, env, policy, num_episodes=100):\n",
    "        \"\"\"Évalue une politique sur plusieurs épisodes.\"\"\"\n",
    "        scores = []\n",
    "        for _ in range(num_episodes):\n",
    "            env.reset()\n",
    "            steps = 0\n",
    "            while not env.is_game_over() and steps < 1000:\n",
    "                state = env.state()\n",
    "                if policy.ndim == 2:\n",
    "                    action = np.random.choice(env.num_actions(), p=policy[state])\n",
    "                else:\n",
    "                    action = int(policy[state])\n",
    "                env.step(action)\n",
    "                steps += 1\n",
    "            scores.append(env.score())\n",
    "        return np.mean(scores), np.std(scores)\n",
    "    \n",
    "    def run_policy_iteration(self, env, params):\n",
    "        S, A, R_vals, T, p = build_model_from_env(env)\n",
    "        pi, V = policy_iteration(S, A, R_vals, T, p, gamma=params['gamma'])\n",
    "        # Convertir en politique stochastique pour l'évaluation\n",
    "        policy = np.zeros((len(S), len(A)))\n",
    "        for s in range(len(S)):\n",
    "            policy[s, pi[s]] = 1.0\n",
    "        return policy, V, None\n",
    "    \n",
    "    def run_value_iteration(self, env, params):\n",
    "        S, A, R_vals, T, p = build_model_from_env(env)\n",
    "        V = value_iteration(S, A, R_vals, T, p, gamma=params['gamma'])\n",
    "        # Extraire la politique greedy\n",
    "        policy = np.zeros((len(S), len(A)))\n",
    "        for s in S:\n",
    "            if s not in T:\n",
    "                q_values = []\n",
    "                for a in A:\n",
    "                    q = sum(p[s, a, s_p, r_idx] * (R_vals[r_idx] + params['gamma'] * V[s_p])\n",
    "                           for s_p in S for r_idx in range(len(R_vals)))\n",
    "                    q_values.append(q)\n",
    "                best_action = np.argmax(q_values)\n",
    "                policy[s, best_action] = 1.0\n",
    "            else:\n",
    "                policy[s, :] = 1.0 / len(A)  # Action uniforme dans les états terminaux\n",
    "        return policy, V, None\n",
    "    \n",
    "    def run_mc_es(self, env, params):\n",
    "        pi, Q = mc_control_es(env, num_episodes=params['num_episodes'], gamma=params['gamma'])\n",
    "        return pi, None, Q\n",
    "    \n",
    "    def run_mc_on_policy(self, env, params):\n",
    "        pi, Q = on_policy_first_visit_mc_control(\n",
    "            env, num_episodes=params['num_episodes'], gamma=params['gamma'],\n",
    "            epsilon_start=params['epsilon_start'], epsilon_decay=params['epsilon_decay']\n",
    "        )\n",
    "        return pi, None, Q\n",
    "    \n",
    "    def run_mc_off_policy(self, env, params):\n",
    "        pi, Q = off_policy_mc_control(env, num_episodes=params['num_episodes'], gamma=params['gamma'])\n",
    "        return pi, None, Q\n",
    "    \n",
    "    def run_sarsa(self, env, params):\n",
    "        pi, Q = sarsa(\n",
    "            env, num_episodes=params['num_episodes'], alpha=params['alpha'],\n",
    "            gamma=params['gamma'], epsilon_start=params['epsilon_start'],\n",
    "            epsilon_decay=params['epsilon_decay']\n",
    "        )\n",
    "        return pi, None, Q\n",
    "    \n",
    "    def run_q_learning(self, env, params):\n",
    "        pi, Q = q_learning(\n",
    "            env, num_episodes=params['num_episodes'], alpha=params['alpha'],\n",
    "            gamma=params['gamma'], epsilon_start=params['epsilon_start'],\n",
    "            epsilon_decay=params['epsilon_decay']\n",
    "        )\n",
    "        return pi, None, Q\n",
    "    \n",
    "    def run_expected_sarsa(self, env, params):\n",
    "        pi, Q = expected_sarsa(\n",
    "            env, num_episodes=params['num_episodes'], alpha=params['alpha'],\n",
    "            gamma=params['gamma'], epsilon_start=params['epsilon_start'],\n",
    "            epsilon_decay=params['epsilon_decay']\n",
    "        )\n",
    "        return pi, None, Q\n",
    "    \n",
    "    def run_dyna_q(self, env, params):\n",
    "        pi, Q, model = dyna_q(\n",
    "            env, num_episodes=params['num_episodes'], \n",
    "            n_planning_steps=params['n_planning_steps'],\n",
    "            alpha=params['alpha'], gamma=params['gamma'],\n",
    "            epsilon_start=params['epsilon_start'], epsilon_decay=params['epsilon_decay']\n",
    "        )\n",
    "        return pi, None, Q\n",
    "    \n",
    "    def run_experiment(self, env_name, algo_name, params=None):\n",
    "        \"\"\"Exécute une expérience complète.\"\"\"\n",
    "        if params is None:\n",
    "            params = self.default_params.copy()\n",
    "        \n",
    "        env = self.environments[env_name]()\n",
    "        \n",
    "        start_time = time.time()\n",
    "        policy, V, Q = self.algorithms[algo_name](env, params)\n",
    "        training_time = time.time() - start_time\n",
    "        \n",
    "        mean_score, std_score = self.evaluate_policy(env, policy)\n",
    "        \n",
    "        return {\n",
    "            'environment': env_name,\n",
    "            'algorithm': algo_name,\n",
    "            'mean_score': mean_score,\n",
    "            'std_score': std_score,\n",
    "            'training_time': training_time,\n",
    "            'policy': policy,\n",
    "            'V': V,\n",
    "            'Q': Q,\n",
    "            'params': params\n",
    "        }\n",
    "\n",
    "# Initialiser le runner\n",
    "runner = ExperimentRunner()\n",
    "print(\"ExperimentRunner initialisé\")"
   ]
  },
  {
   "cell_type": "markdown",
   "metadata": {},
   "source": [
    "### 4.2 Exécution des expériences"
   ]
  },
  {
   "cell_type": "code",
   "execution_count": 14,
   "metadata": {},
   "outputs": [
    {
     "name": "stdout",
     "output_type": "stream",
     "text": [
      "🚀 Lancement des expériences...\n",
      "⏱️ Cela peut prendre quelques minutes...\n",
      "\n"
     ]
    },
    {
     "name": "stderr",
     "output_type": "stream",
     "text": [
      "Environnements:   0%|                                                                                                                                                                                            | 0/5 [00:00<?, ?it/s]"
     ]
    },
    {
     "name": "stdout",
     "output_type": "stream",
     "text": [
      "\n",
      "📍 Environnement : lineworld\n"
     ]
    },
    {
     "name": "stderr",
     "output_type": "stream",
     "text": [
      "\n",
      "Algorithmes (lineworld):   0%|                                                                                                                                                                                   | 0/9 [00:00<?, ?it/s]\u001b[A"
     ]
    },
    {
     "name": "stdout",
     "output_type": "stream",
     "text": [
      "   • policy_iteration     : "
     ]
    },
    {
     "name": "stderr",
     "output_type": "stream",
     "text": [
      "\n",
      "\n",
      "Repétitions policy_iteration:   0%|                                                                                                                                                                              | 0/5 [00:00<?, ?it/s]\u001b[A\u001b[A\n",
      "\n",
      "Repétitions policy_iteration:  20%|█████████████████████████████████▏                                                                                                                                    | 1/5 [00:01<00:05,  1.40s/it]\u001b[A\u001b[A\n",
      "\n",
      "Repétitions policy_iteration:  40%|██████████████████████████████████████████████████████████████████▍                                                                                                   | 2/5 [00:02<00:04,  1.38s/it]\u001b[A\u001b[A\n",
      "\n",
      "Repétitions policy_iteration:  60%|███████████████████████████████████████████████████████████████████████████████████████████████████▌                                                                  | 3/5 [00:04<00:02,  1.39s/it]\u001b[A\u001b[A\n",
      "\n",
      "Repétitions policy_iteration:  80%|████████████████████████████████████████████████████████████████████████████████████████████████████████████████████████████████████▊                                 | 4/5 [00:05<00:01,  1.38s/it]\u001b[A\u001b[A\n",
      "\n",
      "Repétitions policy_iteration: 100%|██████████████████████████████████████████████████████████████████████████████████████████████████████████████████████████████████████████████████████████████████████| 5/5 [00:06<00:00,  1.38s/it]\u001b[A\u001b[A\n",
      "\n",
      "                                                                                                                                                                                                                                       \u001b[A\u001b[A\n",
      "Algorithmes (lineworld):  11%|███████████████████                                                                                                                                                        | 1/9 [00:06<00:55,  6.92s/it]\u001b[A"
     ]
    },
    {
     "name": "stdout",
     "output_type": "stream",
     "text": [
      "Score:  0.000 ± 0.000, Time:  0.00s (moyenne sur 5 runs)\n",
      "   • value_iteration      : "
     ]
    },
    {
     "name": "stderr",
     "output_type": "stream",
     "text": [
      "\n",
      "\n",
      "Repétitions value_iteration:   0%|                                                                                                                                                                               | 0/5 [00:00<?, ?it/s]\u001b[A\u001b[A\n",
      "\n",
      "Repétitions value_iteration:  20%|█████████████████████████████████▍                                                                                                                                     | 1/5 [00:01<00:05,  1.46s/it]\u001b[A\u001b[A\n",
      "\n",
      "Repétitions value_iteration:  40%|██████████████████████████████████████████████████████████████████▊                                                                                                    | 2/5 [00:03<00:04,  1.52s/it]\u001b[A\u001b[A\n",
      "\n",
      "Repétitions value_iteration:  60%|████████████████████████████████████████████████████████████████████████████████████████████████████▏                                                                  | 3/5 [00:04<00:02,  1.49s/it]\u001b[A\u001b[A\n",
      "\n",
      "Repétitions value_iteration:  80%|█████████████████████████████████████████████████████████████████████████████████████████████████████████████████████████████████████▌                                 | 4/5 [00:05<00:01,  1.46s/it]\u001b[A\u001b[A\n",
      "\n",
      "Repétitions value_iteration: 100%|███████████████████████████████████████████████████████████████████████████████████████████████████████████████████████████████████████████████████████████████████████| 5/5 [00:07<00:00,  1.44s/it]\u001b[A\u001b[A\n",
      "\n",
      "                                                                                                                                                                                                                                       \u001b[A\u001b[A\n",
      "Algorithmes (lineworld):  22%|██████████████████████████████████████                                                                                                                                     | 2/9 [00:14<00:50,  7.15s/it]\u001b[A"
     ]
    },
    {
     "name": "stdout",
     "output_type": "stream",
     "text": [
      "Score:  0.000 ± 0.000, Time:  0.00s (moyenne sur 5 runs)\n",
      "   • mc_es                : SKIPPED (ES non supporté)\n",
      "   • mc_on_policy         : "
     ]
    },
    {
     "name": "stderr",
     "output_type": "stream",
     "text": [
      "\n",
      "\n",
      "Repétitions mc_on_policy:   0%|                                                                                                                                                                                  | 0/5 [00:00<?, ?it/s]\u001b[A\u001b[A\n",
      "\n",
      "Repétitions mc_on_policy:  40%|████████████████████████████████████████████████████████████████████                                                                                                      | 2/5 [00:00<00:00, 16.58it/s]\u001b[A\u001b[A\n",
      "\n",
      "Repétitions mc_on_policy:  80%|████████████████████████████████████████████████████████████████████████████████████████████████████████████████████████████████████████                                  | 4/5 [00:00<00:00, 17.23it/s]\u001b[A\u001b[A\n",
      "\n",
      "                                                                                                                                                                                                                                       \u001b[A\u001b[A\n",
      "Algorithmes (lineworld):  44%|████████████████████████████████████████████████████████████████████████████                                                                                               | 4/9 [00:14<00:13,  2.76s/it]\u001b[A"
     ]
    },
    {
     "name": "stdout",
     "output_type": "stream",
     "text": [
      "Score:  1.000 ± 0.000, Time:  0.06s (moyenne sur 5 runs)\n",
      "   • mc_off_policy        : "
     ]
    },
    {
     "name": "stderr",
     "output_type": "stream",
     "text": [
      "\n",
      "\n",
      "Repétitions mc_off_policy:   0%|                                                                                                                                                                                 | 0/5 [00:00<?, ?it/s]\u001b[A\u001b[A\n",
      "\n",
      "Repétitions mc_off_policy:  20%|█████████████████████████████████▊                                                                                                                                       | 1/5 [00:01<00:06,  1.56s/it]\u001b[A\u001b[A\n",
      "\n",
      "Repétitions mc_off_policy:  40%|███████████████████████████████████████████████████████████████████▌                                                                                                     | 2/5 [00:03<00:04,  1.52s/it]\u001b[A\u001b[A\n",
      "\n",
      "Repétitions mc_off_policy:  60%|█████████████████████████████████████████████████████████████████████████████████████████████████████▍                                                                   | 3/5 [00:04<00:03,  1.51s/it]\u001b[A\u001b[A\n",
      "\n",
      "Repétitions mc_off_policy:  80%|███████████████████████████████████████████████████████████████████████████████████████████████████████████████████████████████████████▏                                 | 4/5 [00:06<00:01,  1.51s/it]\u001b[A\u001b[A\n",
      "\n",
      "Repétitions mc_off_policy: 100%|█████████████████████████████████████████████████████████████████████████████████████████████████████████████████████████████████████████████████████████████████████████| 5/5 [00:07<00:00,  1.50s/it]\u001b[A\u001b[A\n",
      "\n",
      "                                                                                                                                                                                                                                       \u001b[A\u001b[A\n",
      "Algorithmes (lineworld):  56%|███████████████████████████████████████████████████████████████████████████████████████████████                                                                            | 5/9 [00:22<00:16,  4.24s/it]\u001b[A"
     ]
    },
    {
     "name": "stdout",
     "output_type": "stream",
     "text": [
      "Score:  0.000 ± 0.000, Time:  0.08s (moyenne sur 5 runs)\n",
      "   • sarsa                : "
     ]
    },
    {
     "name": "stderr",
     "output_type": "stream",
     "text": [
      "\n",
      "\n",
      "Repétitions sarsa:   0%|                                                                                                                                                                                         | 0/5 [00:00<?, ?it/s]\u001b[A\u001b[A\n",
      "\n",
      "                                                                                                                                                                                                                                       \u001b[A\u001b[A"
     ]
    },
    {
     "name": "stdout",
     "output_type": "stream",
     "text": [
      "Score:  1.000 ± 0.000, Time:  0.01s (moyenne sur 5 runs)\n",
      "   • q_learning           : "
     ]
    },
    {
     "name": "stderr",
     "output_type": "stream",
     "text": [
      "\n",
      "\n",
      "Repétitions q_learning:   0%|                                                                                                                                                                                    | 0/5 [00:00<?, ?it/s]\u001b[A\u001b[A\n",
      "\n",
      "                                                                                                                                                                                                                                       \u001b[A\u001b[A\n",
      "Algorithmes (lineworld):  78%|█████████████████████████████████████████████████████████████████████████████████████████████████████████████████████████████████████                                      | 7/9 [00:22<00:04,  2.29s/it]\u001b[A"
     ]
    },
    {
     "name": "stdout",
     "output_type": "stream",
     "text": [
      "Score:  1.000 ± 0.000, Time:  0.01s (moyenne sur 5 runs)\n",
      "   • expected_sarsa       : "
     ]
    },
    {
     "name": "stderr",
     "output_type": "stream",
     "text": [
      "\n",
      "\n",
      "Repétitions expected_sarsa:   0%|                                                                                                                                                                                | 0/5 [00:00<?, ?it/s]\u001b[A\u001b[A\n",
      "\n",
      "                                                                                                                                                                                                                                       \u001b[A\u001b[A"
     ]
    },
    {
     "name": "stdout",
     "output_type": "stream",
     "text": [
      "Score:  1.000 ± 0.000, Time:  0.01s (moyenne sur 5 runs)\n",
      "   • dyna_q               : "
     ]
    },
    {
     "name": "stderr",
     "output_type": "stream",
     "text": [
      "\n",
      "\n",
      "Repétitions dyna_q:   0%|                                                                                                                                                                                        | 0/5 [00:00<?, ?it/s]\u001b[A\u001b[A\n",
      "\n",
      "Repétitions dyna_q:  20%|███████████████████████████████████▏                                                                                                                                            | 1/5 [00:00<00:01,  3.89it/s]\u001b[A\u001b[A\n",
      "\n",
      "Repétitions dyna_q:  40%|██████████████████████████████████████████████████████████████████████▍                                                                                                         | 2/5 [00:00<00:00,  3.99it/s]\u001b[A\u001b[A\n",
      "\n",
      "Repétitions dyna_q:  60%|█████████████████████████████████████████████████████████████████████████████████████████████████████████▌                                                                      | 3/5 [00:00<00:00,  3.93it/s]\u001b[A\u001b[A\n",
      "\n",
      "Repétitions dyna_q:  80%|████████████████████████████████████████████████████████████████████████████████████████████████████████████████████████████████████████████▊                                   | 4/5 [00:01<00:00,  3.98it/s]\u001b[A\u001b[A\n",
      "\n",
      "Repétitions dyna_q: 100%|████████████████████████████████████████████████████████████████████████████████████████████████████████████████████████████████████████████████████████████████████████████████| 5/5 [00:01<00:00,  3.95it/s]\u001b[A\u001b[A\n",
      "\n",
      "                                                                                                                                                                                                                                       \u001b[A\u001b[A\n",
      "Algorithmes (lineworld): 100%|███████████████████████████████████████████████████████████████████████████████████████████████████████████████████████████████████████████████████████████████████████████| 9/9 [00:23<00:00,  2.62s/it]\u001b[A\n",
      "Environnements:  20%|████████████████████████████████████                                                                                                                                                | 1/5 [00:23<01:34, 23.61s/it]"
     ]
    },
    {
     "name": "stdout",
     "output_type": "stream",
     "text": [
      "Score:  1.000 ± 0.000, Time:  0.25s (moyenne sur 5 runs)\n",
      "\n",
      "📍 Environnement : gridworld\n"
     ]
    },
    {
     "name": "stderr",
     "output_type": "stream",
     "text": [
      "\n",
      "Algorithmes (gridworld):   0%|                                                                                                                                                                                   | 0/9 [00:00<?, ?it/s]\u001b[A"
     ]
    },
    {
     "name": "stdout",
     "output_type": "stream",
     "text": [
      "   • policy_iteration     : "
     ]
    },
    {
     "name": "stderr",
     "output_type": "stream",
     "text": [
      "\n",
      "\n",
      "Repétitions policy_iteration:   0%|                                                                                                                                                                              | 0/5 [00:00<?, ?it/s]\u001b[A\u001b[A\n",
      "\n",
      "Repétitions policy_iteration:  20%|█████████████████████████████████▏                                                                                                                                    | 1/5 [00:01<00:06,  1.59s/it]\u001b[A\u001b[A\n",
      "\n",
      "Repétitions policy_iteration:  40%|██████████████████████████████████████████████████████████████████▍                                                                                                   | 2/5 [00:03<00:04,  1.57s/it]\u001b[A\u001b[A\n",
      "\n",
      "Repétitions policy_iteration:  60%|███████████████████████████████████████████████████████████████████████████████████████████████████▌                                                                  | 3/5 [00:04<00:03,  1.59s/it]\u001b[A\u001b[A\n",
      "\n",
      "Repétitions policy_iteration:  80%|████████████████████████████████████████████████████████████████████████████████████████████████████████████████████████████████████▊                                 | 4/5 [00:06<00:01,  1.60s/it]\u001b[A\u001b[A\n",
      "\n",
      "Repétitions policy_iteration: 100%|██████████████████████████████████████████████████████████████████████████████████████████████████████████████████████████████████████████████████████████████████████| 5/5 [00:07<00:00,  1.59s/it]\u001b[A\u001b[A\n",
      "\n",
      "                                                                                                                                                                                                                                       \u001b[A\u001b[A\n",
      "Algorithmes (gridworld):  11%|███████████████████                                                                                                                                                        | 1/9 [00:07<01:03,  7.97s/it]\u001b[A"
     ]
    },
    {
     "name": "stdout",
     "output_type": "stream",
     "text": [
      "Score:  0.000 ± 0.000, Time:  0.04s (moyenne sur 5 runs)\n",
      "   • value_iteration      : "
     ]
    },
    {
     "name": "stderr",
     "output_type": "stream",
     "text": [
      "\n",
      "\n",
      "Repétitions value_iteration:   0%|                                                                                                                                                                               | 0/5 [00:00<?, ?it/s]\u001b[A\u001b[A\n",
      "\n",
      "Repétitions value_iteration:  20%|█████████████████████████████████▍                                                                                                                                     | 1/5 [00:01<00:06,  1.60s/it]\u001b[A\u001b[A\n",
      "\n",
      "Repétitions value_iteration:  40%|██████████████████████████████████████████████████████████████████▊                                                                                                    | 2/5 [00:03<00:04,  1.61s/it]\u001b[A\u001b[A\n",
      "\n",
      "Repétitions value_iteration:  60%|████████████████████████████████████████████████████████████████████████████████████████████████████▏                                                                  | 3/5 [00:04<00:03,  1.61s/it]\u001b[A\u001b[A\n",
      "\n",
      "Repétitions value_iteration:  80%|█████████████████████████████████████████████████████████████████████████████████████████████████████████████████████████████████████▌                                 | 4/5 [00:06<00:01,  1.60s/it]\u001b[A\u001b[A\n",
      "\n",
      "Repétitions value_iteration: 100%|███████████████████████████████████████████████████████████████████████████████████████████████████████████████████████████████████████████████████████████████████████| 5/5 [00:07<00:00,  1.59s/it]\u001b[A\u001b[A\n",
      "\n",
      "                                                                                                                                                                                                                                       \u001b[A\u001b[A\n",
      "Algorithmes (gridworld):  22%|██████████████████████████████████████                                                                                                                                     | 2/9 [00:15<00:55,  7.99s/it]\u001b[A"
     ]
    },
    {
     "name": "stdout",
     "output_type": "stream",
     "text": [
      "Score:  0.000 ± 0.000, Time:  0.03s (moyenne sur 5 runs)\n",
      "   • mc_es                : SKIPPED (ES non supporté)\n",
      "   • mc_on_policy         : "
     ]
    },
    {
     "name": "stderr",
     "output_type": "stream",
     "text": [
      "\n",
      "\n",
      "Repétitions mc_on_policy:   0%|                                                                                                                                                                                  | 0/5 [00:00<?, ?it/s]\u001b[A\u001b[A\n",
      "\n",
      "Repétitions mc_on_policy:  20%|██████████████████████████████████                                                                                                                                        | 1/5 [00:03<00:13,  3.43s/it]\u001b[A\u001b[A\n",
      "\n",
      "Repétitions mc_on_policy:  40%|████████████████████████████████████████████████████████████████████                                                                                                      | 2/5 [00:08<00:12,  4.31s/it]\u001b[A\u001b[A\n",
      "\n",
      "Repétitions mc_on_policy:  60%|██████████████████████████████████████████████████████████████████████████████████████████████████████                                                                    | 3/5 [00:11<00:07,  3.71s/it]\u001b[A\u001b[A\n",
      "\n",
      "Repétitions mc_on_policy:  80%|████████████████████████████████████████████████████████████████████████████████████████████████████████████████████████████████████████                                  | 4/5 [00:13<00:03,  3.23s/it]\u001b[A\u001b[A\n",
      "\n",
      "Repétitions mc_on_policy: 100%|██████████████████████████████████████████████████████████████████████████████████████████████████████████████████████████████████████████████████████████████████████████| 5/5 [00:17<00:00,  3.50s/it]\u001b[A\u001b[A\n",
      "\n",
      "                                                                                                                                                                                                                                       \u001b[A\u001b[A\n",
      "Algorithmes (gridworld):  44%|████████████████████████████████████████████████████████████████████████████                                                                                               | 4/9 [00:33<00:42,  8.57s/it]\u001b[A"
     ]
    },
    {
     "name": "stdout",
     "output_type": "stream",
     "text": [
      "Score:  0.000 ± 0.000, Time:  2.04s (moyenne sur 5 runs)\n",
      "   • mc_off_policy        : "
     ]
    },
    {
     "name": "stderr",
     "output_type": "stream",
     "text": [
      "\n",
      "\n",
      "Repétitions mc_off_policy:   0%|                                                                                                                                                                                 | 0/5 [00:00<?, ?it/s]\u001b[A\u001b[A\n",
      "\n",
      "Repétitions mc_off_policy:  20%|█████████████████████████████████▊                                                                                                                                       | 1/5 [00:02<00:09,  2.41s/it]\u001b[A\u001b[A\n",
      "\n",
      "Repétitions mc_off_policy:  40%|███████████████████████████████████████████████████████████████████▌                                                                                                     | 2/5 [00:04<00:07,  2.49s/it]\u001b[A\u001b[A\n",
      "\n",
      "Repétitions mc_off_policy:  60%|█████████████████████████████████████████████████████████████████████████████████████████████████████▍                                                                   | 3/5 [00:07<00:04,  2.46s/it]\u001b[A\u001b[A\n",
      "\n",
      "Repétitions mc_off_policy:  80%|███████████████████████████████████████████████████████████████████████████████████████████████████████████████████████████████████████▏                                 | 4/5 [00:09<00:02,  2.44s/it]\u001b[A\u001b[A\n",
      "\n",
      "Repétitions mc_off_policy: 100%|█████████████████████████████████████████████████████████████████████████████████████████████████████████████████████████████████████████████████████████████████████████| 5/5 [00:12<00:00,  2.44s/it]\u001b[A\u001b[A\n",
      "\n",
      "                                                                                                                                                                                                                                       \u001b[A\u001b[A\n",
      "Algorithmes (gridworld):  56%|███████████████████████████████████████████████████████████████████████████████████████████████                                                                            | 5/9 [00:46<00:38,  9.71s/it]\u001b[A"
     ]
    },
    {
     "name": "stdout",
     "output_type": "stream",
     "text": [
      "Score:  0.000 ± 0.000, Time:  0.90s (moyenne sur 5 runs)\n",
      "   • sarsa                : "
     ]
    },
    {
     "name": "stderr",
     "output_type": "stream",
     "text": [
      "\n",
      "\n",
      "Repétitions sarsa:   0%|                                                                                                                                                                                         | 0/5 [00:00<?, ?it/s]\u001b[A\u001b[A\n",
      "\n",
      "Repétitions sarsa:  40%|██████████████████████████████████████████████████████████████████████▊                                                                                                          | 2/5 [00:00<00:00, 13.27it/s]\u001b[A\u001b[A\n",
      "\n",
      "Repétitions sarsa:  80%|█████████████████████████████████████████████████████████████████████████████████████████████████████████████████████████████████████████████▌                                   | 4/5 [00:00<00:00, 14.13it/s]\u001b[A\u001b[A\n",
      "\n",
      "                                                                                                                                                                                                                                       \u001b[A\u001b[A\n",
      "Algorithmes (gridworld):  67%|██████████████████████████████████████████████████████████████████████████████████████████████████████████████████                                                         | 6/9 [00:46<00:20,  6.85s/it]\u001b[A"
     ]
    },
    {
     "name": "stdout",
     "output_type": "stream",
     "text": [
      "Score:  1.000 ± 0.000, Time:  0.06s (moyenne sur 5 runs)\n",
      "   • q_learning           : "
     ]
    },
    {
     "name": "stderr",
     "output_type": "stream",
     "text": [
      "\n",
      "\n",
      "Repétitions q_learning:   0%|                                                                                                                                                                                    | 0/5 [00:00<?, ?it/s]\u001b[A\u001b[A\n",
      "\n",
      "Repétitions q_learning:  20%|██████████████████████████████████▍                                                                                                                                         | 1/5 [00:00<00:00,  6.22it/s]\u001b[A\u001b[A\n",
      "\n",
      "Repétitions q_learning:  40%|████████████████████████████████████████████████████████████████████▊                                                                                                       | 2/5 [00:00<00:00,  6.32it/s]\u001b[A\u001b[A\n",
      "\n",
      "Repétitions q_learning:  60%|███████████████████████████████████████████████████████████████████████████████████████████████████████▏                                                                    | 3/5 [00:00<00:00,  6.96it/s]\u001b[A\u001b[A\n",
      "\n",
      "Repétitions q_learning:  80%|█████████████████████████████████████████████████████████████████████████████████████████████████████████████████████████████████████████▌                                  | 4/5 [00:00<00:00,  7.06it/s]\u001b[A\u001b[A\n",
      "\n",
      "Repétitions q_learning: 100%|████████████████████████████████████████████████████████████████████████████████████████████████████████████████████████████████████████████████████████████████████████████| 5/5 [00:00<00:00,  7.37it/s]\u001b[A\u001b[A\n",
      "\n",
      "                                                                                                                                                                                                                                       \u001b[A\u001b[A\n",
      "Algorithmes (gridworld):  78%|█████████████████████████████████████████████████████████████████████████████████████████████████████████████████████████████████████                                      | 7/9 [00:47<00:09,  4.98s/it]\u001b[A"
     ]
    },
    {
     "name": "stdout",
     "output_type": "stream",
     "text": [
      "Score:  1.000 ± 0.000, Time:  0.12s (moyenne sur 5 runs)\n",
      "   • expected_sarsa       : "
     ]
    },
    {
     "name": "stderr",
     "output_type": "stream",
     "text": [
      "\n",
      "\n",
      "Repétitions expected_sarsa:   0%|                                                                                                                                                                                | 0/5 [00:00<?, ?it/s]\u001b[A\u001b[A\n",
      "\n",
      "Repétitions expected_sarsa:  40%|███████████████████████████████████████████████████████████████████▏                                                                                                    | 2/5 [00:00<00:00,  9.81it/s]\u001b[A\u001b[A\n",
      "\n",
      "Repétitions expected_sarsa:  60%|████████████████████████████████████████████████████████████████████████████████████████████████████▊                                                                   | 3/5 [00:00<00:00,  9.76it/s]\u001b[A\u001b[A\n",
      "\n",
      "Repétitions expected_sarsa: 100%|████████████████████████████████████████████████████████████████████████████████████████████████████████████████████████████████████████████████████████████████████████| 5/5 [00:00<00:00, 10.29it/s]\u001b[A\u001b[A\n",
      "\n",
      "                                                                                                                                                                                                                                       \u001b[A\u001b[A\n",
      "Algorithmes (gridworld):  89%|████████████████████████████████████████████████████████████████████████████████████████████████████████████████████████████████████████████████████████                   | 8/9 [00:47<00:03,  3.62s/it]\u001b[A"
     ]
    },
    {
     "name": "stdout",
     "output_type": "stream",
     "text": [
      "Score:  1.000 ± 0.000, Time:  0.08s (moyenne sur 5 runs)\n",
      "   • dyna_q               : "
     ]
    },
    {
     "name": "stderr",
     "output_type": "stream",
     "text": [
      "\n",
      "\n",
      "Repétitions dyna_q:   0%|                                                                                                                                                                                        | 0/5 [00:00<?, ?it/s]\u001b[A\u001b[A\n",
      "\n",
      "Repétitions dyna_q:  20%|███████████████████████████████████▏                                                                                                                                            | 1/5 [00:01<00:05,  1.47s/it]\u001b[A\u001b[A\n",
      "\n",
      "Repétitions dyna_q:  40%|██████████████████████████████████████████████████████████████████████▍                                                                                                         | 2/5 [00:03<00:04,  1.51s/it]\u001b[A\u001b[A\n",
      "\n",
      "Repétitions dyna_q:  60%|█████████████████████████████████████████████████████████████████████████████████████████████████████████▌                                                                      | 3/5 [00:04<00:02,  1.47s/it]\u001b[A\u001b[A\n",
      "\n",
      "Repétitions dyna_q:  80%|████████████████████████████████████████████████████████████████████████████████████████████████████████████████████████████████████████████▊                                   | 4/5 [00:05<00:01,  1.47s/it]\u001b[A\u001b[A\n",
      "\n",
      "Repétitions dyna_q: 100%|████████████████████████████████████████████████████████████████████████████████████████████████████████████████████████████████████████████████████████████████████████████████| 5/5 [00:07<00:00,  1.46s/it]\u001b[A\u001b[A\n",
      "\n",
      "                                                                                                                                                                                                                                       \u001b[A\u001b[A\n",
      "Algorithmes (gridworld): 100%|███████████████████████████████████████████████████████████████████████████████████████████████████████████████████████████████████████████████████████████████████████████| 9/9 [00:55<00:00,  6.11s/it]\u001b[A\n",
      "Environnements:  40%|████████████████████████████████████████████████████████████████████████                                                                                                            | 2/5 [01:18<02:06, 42.08s/it]"
     ]
    },
    {
     "name": "stdout",
     "output_type": "stream",
     "text": [
      "Score:  1.000 ± 0.000, Time:  1.45s (moyenne sur 5 runs)\n",
      "\n",
      "📍 Environnement : rps\n"
     ]
    },
    {
     "name": "stderr",
     "output_type": "stream",
     "text": [
      "\n",
      "Algorithmes (rps):   0%|                                                                                                                                                                                         | 0/9 [00:00<?, ?it/s]\u001b[A"
     ]
    },
    {
     "name": "stdout",
     "output_type": "stream",
     "text": [
      "   • policy_iteration     : SKIPPED (trop complexe pour DP)\n",
      "   • value_iteration      : SKIPPED (trop complexe pour DP)\n",
      "   • mc_es                : "
     ]
    },
    {
     "name": "stderr",
     "output_type": "stream",
     "text": [
      "\n",
      "\n",
      "Repétitions mc_es:   0%|                                                                                                                                                                                         | 0/5 [00:00<?, ?it/s]\u001b[A\u001b[A\n",
      "\n",
      "Repétitions mc_es:  40%|██████████████████████████████████████████████████████████████████████▊                                                                                                          | 2/5 [00:00<00:00, 14.70it/s]\u001b[A\u001b[A\n",
      "\n",
      "Repétitions mc_es:  80%|█████████████████████████████████████████████████████████████████████████████████████████████████████████████████████████████████████████████▌                                   | 4/5 [00:00<00:00, 14.61it/s]\u001b[A\u001b[A\n",
      "\n",
      "                                                                                                                                                                                                                                       \u001b[A\u001b[A\n",
      "Algorithmes (rps):  33%|███████████████████████████████████████████████████████████                                                                                                                      | 3/9 [00:00<00:00,  8.58it/s]\u001b[A"
     ]
    },
    {
     "name": "stdout",
     "output_type": "stream",
     "text": [
      "Score:  0.924 ± 0.832, Time:  0.06s (moyenne sur 5 runs)\n",
      "   • mc_on_policy         : "
     ]
    },
    {
     "name": "stderr",
     "output_type": "stream",
     "text": [
      "\n",
      "\n",
      "Repétitions mc_on_policy:   0%|                                                                                                                                                                                  | 0/5 [00:00<?, ?it/s]\u001b[A\u001b[A\n",
      "\n",
      "Repétitions mc_on_policy:  40%|████████████████████████████████████████████████████████████████████                                                                                                      | 2/5 [00:00<00:00, 17.63it/s]\u001b[A\u001b[A\n",
      "\n",
      "Repétitions mc_on_policy:  80%|████████████████████████████████████████████████████████████████████████████████████████████████████████████████████████████████████████                                  | 4/5 [00:00<00:00, 17.58it/s]\u001b[A\u001b[A\n",
      "\n",
      "                                                                                                                                                                                                                                       \u001b[A\u001b[A\n",
      "Algorithmes (rps):  44%|██████████████████████████████████████████████████████████████████████████████▋                                                                                                  | 4/9 [00:00<00:00,  5.77it/s]\u001b[A"
     ]
    },
    {
     "name": "stdout",
     "output_type": "stream",
     "text": [
      "Score:  1.004 ± 0.813, Time:  0.05s (moyenne sur 5 runs)\n",
      "   • mc_off_policy        : "
     ]
    },
    {
     "name": "stderr",
     "output_type": "stream",
     "text": [
      "\n",
      "\n",
      "Repétitions mc_off_policy:   0%|                                                                                                                                                                                 | 0/5 [00:00<?, ?it/s]\u001b[A\u001b[A\n",
      "\n",
      "Repétitions mc_off_policy:  40%|███████████████████████████████████████████████████████████████████▌                                                                                                     | 2/5 [00:00<00:00, 17.42it/s]\u001b[A\u001b[A\n",
      "\n",
      "Repétitions mc_off_policy:  80%|███████████████████████████████████████████████████████████████████████████████████████████████████████████████████████████████████████▏                                 | 4/5 [00:00<00:00, 14.32it/s]\u001b[A\u001b[A\n",
      "\n",
      "                                                                                                                                                                                                                                       \u001b[A\u001b[A\n",
      "Algorithmes (rps):  56%|██████████████████████████████████████████████████████████████████████████████████████████████████▎                                                                              | 5/9 [00:00<00:00,  4.43it/s]\u001b[A"
     ]
    },
    {
     "name": "stdout",
     "output_type": "stream",
     "text": [
      "Score:  1.042 ± 0.822, Time:  0.06s (moyenne sur 5 runs)\n",
      "   • sarsa                : "
     ]
    },
    {
     "name": "stderr",
     "output_type": "stream",
     "text": [
      "\n",
      "\n",
      "Repétitions sarsa:   0%|                                                                                                                                                                                         | 0/5 [00:00<?, ?it/s]\u001b[A\u001b[A\n",
      "\n",
      "                                                                                                                                                                                                                                       \u001b[A\u001b[A"
     ]
    },
    {
     "name": "stdout",
     "output_type": "stream",
     "text": [
      "Score:  1.042 ± 0.819, Time:  0.01s (moyenne sur 5 runs)\n",
      "   • q_learning           : "
     ]
    },
    {
     "name": "stderr",
     "output_type": "stream",
     "text": [
      "\n",
      "\n",
      "Repétitions q_learning:   0%|                                                                                                                                                                                    | 0/5 [00:00<?, ?it/s]\u001b[A\u001b[A\n",
      "\n",
      "                                                                                                                                                                                                                                       \u001b[A\u001b[A\n",
      "Algorithmes (rps):  78%|█████████████████████████████████████████████████████████████████████████████████████████████████████████████████████████████████████████▋                                       | 7/9 [00:01<00:00,  6.21it/s]"
     ]
    },
    {
     "name": "stdout",
     "output_type": "stream",
     "text": [
      "Score:  0.984 ± 0.808, Time:  0.02s (moyenne sur 5 runs)\n"
     ]
    },
    {
     "name": "stderr",
     "output_type": "stream",
     "text": [
      "\u001b[A"
     ]
    },
    {
     "name": "stdout",
     "output_type": "stream",
     "text": [
      "   • expected_sarsa       : "
     ]
    },
    {
     "name": "stderr",
     "output_type": "stream",
     "text": [
      "\n",
      "\n",
      "Repétitions expected_sarsa:   0%|                                                                                                                                                                                | 0/5 [00:00<?, ?it/s]\u001b[A\u001b[A\n",
      "\n",
      "                                                                                                                                                                                                                                       \u001b[A\u001b[A"
     ]
    },
    {
     "name": "stdout",
     "output_type": "stream",
     "text": [
      "Score:  1.020 ± 0.813, Time:  0.01s (moyenne sur 5 runs)\n",
      "   • dyna_q               : "
     ]
    },
    {
     "name": "stderr",
     "output_type": "stream",
     "text": [
      "\n",
      "\n",
      "Repétitions dyna_q:   0%|                                                                                                                                                                                        | 0/5 [00:00<?, ?it/s]\u001b[A\u001b[A\n",
      "\n",
      "Repétitions dyna_q:  20%|███████████████████████████████████▏                                                                                                                                            | 1/5 [00:00<00:00,  4.78it/s]\u001b[A\u001b[A\n",
      "\n",
      "Repétitions dyna_q:  40%|██████████████████████████████████████████████████████████████████████▍                                                                                                         | 2/5 [00:00<00:00,  4.60it/s]\u001b[A\u001b[A\n",
      "\n",
      "Repétitions dyna_q:  60%|█████████████████████████████████████████████████████████████████████████████████████████████████████████▌                                                                      | 3/5 [00:00<00:00,  4.64it/s]\u001b[A\u001b[A\n",
      "\n",
      "Repétitions dyna_q:  80%|████████████████████████████████████████████████████████████████████████████████████████████████████████████████████████████████████████████▊                                   | 4/5 [00:00<00:00,  4.63it/s]\u001b[A\u001b[A\n",
      "\n",
      "Repétitions dyna_q: 100%|████████████████████████████████████████████████████████████████████████████████████████████████████████████████████████████████████████████████████████████████████████████████| 5/5 [00:01<00:00,  4.79it/s]\u001b[A\u001b[A\n",
      "\n",
      "                                                                                                                                                                                                                                       \u001b[A\u001b[A\n",
      "Algorithmes (rps): 100%|█████████████████████████████████████████████████████████████████████████████████████████████████████████████████████████████████████████████████████████████████████████████████| 9/9 [00:02<00:00,  3.89it/s]\u001b[A\n",
      "Environnements:  60%|████████████████████████████████████████████████████████████████████████████████████████████████████████████                                                                        | 3/5 [01:20<00:47, 23.93s/it]"
     ]
    },
    {
     "name": "stdout",
     "output_type": "stream",
     "text": [
      "Score:  0.996 ± 0.837, Time:  0.20s (moyenne sur 5 runs)\n",
      "\n",
      "📍 Environnement : montyhall1\n"
     ]
    },
    {
     "name": "stderr",
     "output_type": "stream",
     "text": [
      "\n",
      "Algorithmes (montyhall1):   0%|                                                                                                                                                                                  | 0/9 [00:00<?, ?it/s]\u001b[A"
     ]
    },
    {
     "name": "stdout",
     "output_type": "stream",
     "text": [
      "   • policy_iteration     : SKIPPED (trop complexe pour DP)\n",
      "   • value_iteration      : SKIPPED (trop complexe pour DP)\n",
      "   • mc_es                : "
     ]
    },
    {
     "name": "stderr",
     "output_type": "stream",
     "text": [
      "\n",
      "\n",
      "Repétitions mc_es:   0%|                                                                                                                                                                                         | 0/5 [00:00<?, ?it/s]\u001b[A\u001b[A\n",
      "\n",
      "Repétitions mc_es:  40%|██████████████████████████████████████████████████████████████████████▊                                                                                                          | 2/5 [00:00<00:00, 11.92it/s]\u001b[A\u001b[A\n",
      "\n",
      "Repétitions mc_es:  80%|█████████████████████████████████████████████████████████████████████████████████████████████████████████████████████████████████████████████▌                                   | 4/5 [00:00<00:00, 12.16it/s]\u001b[A\u001b[A\n",
      "\n",
      "                                                                                                                                                                                                                                       \u001b[A\u001b[A\n",
      "Algorithmes (montyhall1):  33%|████████████████████████████████████████████████████████▋                                                                                                                 | 3/9 [00:00<00:00,  7.25it/s]\u001b[A"
     ]
    },
    {
     "name": "stdout",
     "output_type": "stream",
     "text": [
      "Score:  0.322 ± 0.467, Time:  0.08s (moyenne sur 5 runs)\n",
      "   • mc_on_policy         : "
     ]
    },
    {
     "name": "stderr",
     "output_type": "stream",
     "text": [
      "\n",
      "\n",
      "Repétitions mc_on_policy:   0%|                                                                                                                                                                                  | 0/5 [00:00<?, ?it/s]\u001b[A\u001b[A\n",
      "\n",
      "Repétitions mc_on_policy:  40%|████████████████████████████████████████████████████████████████████                                                                                                      | 2/5 [00:00<00:00, 16.66it/s]\u001b[A\u001b[A\n",
      "\n",
      "Repétitions mc_on_policy:  80%|████████████████████████████████████████████████████████████████████████████████████████████████████████████████████████████████████████                                  | 4/5 [00:00<00:00, 17.04it/s]\u001b[A\u001b[A\n",
      "\n",
      "                                                                                                                                                                                                                                       \u001b[A\u001b[A\n",
      "Algorithmes (montyhall1):  44%|███████████████████████████████████████████████████████████████████████████▌                                                                                              | 4/9 [00:00<00:00,  5.24it/s]\u001b[A"
     ]
    },
    {
     "name": "stdout",
     "output_type": "stream",
     "text": [
      "Score:  0.630 ± 0.482, Time:  0.05s (moyenne sur 5 runs)\n",
      "   • mc_off_policy        : "
     ]
    },
    {
     "name": "stderr",
     "output_type": "stream",
     "text": [
      "\n",
      "\n",
      "Repétitions mc_off_policy:   0%|                                                                                                                                                                                 | 0/5 [00:00<?, ?it/s]\u001b[A\u001b[A\n",
      "\n",
      "Repétitions mc_off_policy:  40%|███████████████████████████████████████████████████████████████████▌                                                                                                     | 2/5 [00:00<00:00, 18.18it/s]\u001b[A\u001b[A\n",
      "\n",
      "Repétitions mc_off_policy:  80%|███████████████████████████████████████████████████████████████████████████████████████████████████████████████████████████████████████▏                                 | 4/5 [00:00<00:00, 18.04it/s]\u001b[A\u001b[A\n",
      "\n",
      "                                                                                                                                                                                                                                       \u001b[A\u001b[A\n",
      "Algorithmes (montyhall1):  56%|██████████████████████████████████████████████████████████████████████████████████████████████▍                                                                           | 5/9 [00:01<00:00,  4.41it/s]\u001b[A"
     ]
    },
    {
     "name": "stdout",
     "output_type": "stream",
     "text": [
      "Score:  0.668 ± 0.468, Time:  0.06s (moyenne sur 5 runs)\n",
      "   • sarsa                : "
     ]
    },
    {
     "name": "stderr",
     "output_type": "stream",
     "text": [
      "\n",
      "\n",
      "Repétitions sarsa:   0%|                                                                                                                                                                                         | 0/5 [00:00<?, ?it/s]\u001b[A\u001b[A\n",
      "\n",
      "                                                                                                                                                                                                                                       \u001b[A\u001b[A"
     ]
    },
    {
     "name": "stdout",
     "output_type": "stream",
     "text": [
      "Score:  0.660 ± 0.472, Time:  0.01s (moyenne sur 5 runs)\n",
      "   • q_learning           : "
     ]
    },
    {
     "name": "stderr",
     "output_type": "stream",
     "text": [
      "\n",
      "\n",
      "Repétitions q_learning:   0%|                                                                                                                                                                                    | 0/5 [00:00<?, ?it/s]\u001b[A\u001b[A\n",
      "\n",
      "Repétitions q_learning: 100%|████████████████████████████████████████████████████████████████████████████████████████████████████████████████████████████████████████████████████████████████████████████| 5/5 [00:00<00:00, 46.66it/s]\u001b[A\u001b[A\n",
      "\n",
      "                                                                                                                                                                                                                                       \u001b[A\u001b[A\n",
      "Algorithmes (montyhall1):  78%|████████████████████████████████████████████████████████████████████████████████████████████████████████████████████████████████████▏                                     | 7/9 [00:01<00:00,  5.97it/s]\u001b[A"
     ]
    },
    {
     "name": "stdout",
     "output_type": "stream",
     "text": [
      "Score:  0.654 ± 0.472, Time:  0.02s (moyenne sur 5 runs)\n",
      "   • expected_sarsa       : "
     ]
    },
    {
     "name": "stderr",
     "output_type": "stream",
     "text": [
      "\n",
      "\n",
      "Repétitions expected_sarsa:   0%|                                                                                                                                                                                | 0/5 [00:00<?, ?it/s]\u001b[A\u001b[A\n",
      "\n",
      "                                                                                                                                                                                                                                       \u001b[A\u001b[A"
     ]
    },
    {
     "name": "stdout",
     "output_type": "stream",
     "text": [
      "Score:  0.668 ± 0.468, Time:  0.01s (moyenne sur 5 runs)\n",
      "   • dyna_q               : "
     ]
    },
    {
     "name": "stderr",
     "output_type": "stream",
     "text": [
      "\n",
      "\n",
      "Repétitions dyna_q:   0%|                                                                                                                                                                                        | 0/5 [00:00<?, ?it/s]\u001b[A\u001b[A\n",
      "\n",
      "Repétitions dyna_q:  20%|███████████████████████████████████▏                                                                                                                                            | 1/5 [00:00<00:00,  5.35it/s]\u001b[A\u001b[A\n",
      "\n",
      "Repétitions dyna_q:  40%|██████████████████████████████████████████████████████████████████████▍                                                                                                         | 2/5 [00:00<00:00,  5.34it/s]\u001b[A\u001b[A\n",
      "\n",
      "Repétitions dyna_q:  60%|█████████████████████████████████████████████████████████████████████████████████████████████████████████▌                                                                      | 3/5 [00:00<00:00,  5.18it/s]\u001b[A\u001b[A\n",
      "\n",
      "Repétitions dyna_q:  80%|████████████████████████████████████████████████████████████████████████████████████████████████████████████████████████████████████████████▊                                   | 4/5 [00:00<00:00,  5.26it/s]\u001b[A\u001b[A\n",
      "\n",
      "Repétitions dyna_q: 100%|████████████████████████████████████████████████████████████████████████████████████████████████████████████████████████████████████████████████████████████████████████████████| 5/5 [00:00<00:00,  5.06it/s]\u001b[A\u001b[A\n",
      "\n",
      "                                                                                                                                                                                                                                       \u001b[A\u001b[A\n",
      "Algorithmes (montyhall1): 100%|██████████████████████████████████████████████████████████████████████████████████████████████████████████████████████████████████████████████████████████████████████████| 9/9 [00:02<00:00,  3.93it/s]\u001b[A\n",
      "Environnements:  80%|████████████████████████████████████████████████████████████████████████████████████████████████████████████████████████████████████████████████                                    | 4/5 [01:23<00:15, 15.39s/it]"
     ]
    },
    {
     "name": "stdout",
     "output_type": "stream",
     "text": [
      "Score:  0.614 ± 0.479, Time:  0.19s (moyenne sur 5 runs)\n",
      "\n",
      "📍 Environnement : montyhall2\n"
     ]
    },
    {
     "name": "stderr",
     "output_type": "stream",
     "text": [
      "\n",
      "Algorithmes (montyhall2):   0%|                                                                                                                                                                                  | 0/9 [00:00<?, ?it/s]\u001b[A"
     ]
    },
    {
     "name": "stdout",
     "output_type": "stream",
     "text": [
      "   • policy_iteration     : SKIPPED (trop complexe pour DP)\n",
      "   • value_iteration      : SKIPPED (trop complexe pour DP)\n",
      "   • mc_es                : "
     ]
    },
    {
     "name": "stderr",
     "output_type": "stream",
     "text": [
      "\n",
      "\n",
      "Repétitions mc_es:   0%|                                                                                                                                                                                         | 0/5 [00:00<?, ?it/s]\u001b[A\u001b[A\n",
      "\n",
      "Repétitions mc_es:  20%|███████████████████████████████████▍                                                                                                                                             | 1/5 [00:00<00:00,  7.14it/s]\u001b[A\u001b[A\n",
      "\n",
      "Repétitions mc_es:  40%|██████████████████████████████████████████████████████████████████████▊                                                                                                          | 2/5 [00:00<00:00,  7.28it/s]\u001b[A\u001b[A\n",
      "\n",
      "Repétitions mc_es:  60%|██████████████████████████████████████████████████████████████████████████████████████████████████████████▏                                                                      | 3/5 [00:00<00:00,  7.15it/s]\u001b[A\u001b[A\n",
      "\n",
      "Repétitions mc_es:  80%|█████████████████████████████████████████████████████████████████████████████████████████████████████████████████████████████████████████████▌                                   | 4/5 [00:00<00:00,  7.22it/s]\u001b[A\u001b[A\n",
      "\n",
      "Repétitions mc_es: 100%|█████████████████████████████████████████████████████████████████████████████████████████████████████████████████████████████████████████████████████████████████████████████████| 5/5 [00:00<00:00,  7.09it/s]\u001b[A\u001b[A\n",
      "\n",
      "                                                                                                                                                                                                                                       \u001b[A\u001b[A\n",
      "Algorithmes (montyhall2):  33%|████████████████████████████████████████████████████████▋                                                                                                                 | 3/9 [00:00<00:01,  4.23it/s]\u001b[A"
     ]
    },
    {
     "name": "stdout",
     "output_type": "stream",
     "text": [
      "Score:  0.226 ± 0.415, Time:  0.13s (moyenne sur 5 runs)\n",
      "   • mc_on_policy         : "
     ]
    },
    {
     "name": "stderr",
     "output_type": "stream",
     "text": [
      "\n",
      "\n",
      "Repétitions mc_on_policy:   0%|                                                                                                                                                                                  | 0/5 [00:00<?, ?it/s]\u001b[A\u001b[A\n",
      "\n",
      "Repétitions mc_on_policy:  20%|██████████████████████████████████                                                                                                                                        | 1/5 [00:00<00:00,  7.41it/s]\u001b[A\u001b[A\n",
      "\n",
      "Repétitions mc_on_policy:  40%|████████████████████████████████████████████████████████████████████                                                                                                      | 2/5 [00:00<00:00,  7.60it/s]\u001b[A\u001b[A\n",
      "\n",
      "Repétitions mc_on_policy:  60%|██████████████████████████████████████████████████████████████████████████████████████████████████████                                                                    | 3/5 [00:00<00:00,  7.67it/s]\u001b[A\u001b[A\n",
      "\n",
      "Repétitions mc_on_policy:  80%|████████████████████████████████████████████████████████████████████████████████████████████████████████████████████████████████████████                                  | 4/5 [00:00<00:00,  7.63it/s]\u001b[A\u001b[A\n",
      "\n",
      "Repétitions mc_on_policy: 100%|██████████████████████████████████████████████████████████████████████████████████████████████████████████████████████████████████████████████████████████████████████████| 5/5 [00:00<00:00,  7.56it/s]\u001b[A\u001b[A\n",
      "\n",
      "                                                                                                                                                                                                                                       \u001b[A\u001b[A\n",
      "Algorithmes (montyhall2):  44%|███████████████████████████████████████████████████████████████████████████▌                                                                                              | 4/9 [00:01<00:01,  2.66it/s]\u001b[A"
     ]
    },
    {
     "name": "stdout",
     "output_type": "stream",
     "text": [
      "Score:  0.590 ± 0.466, Time:  0.12s (moyenne sur 5 runs)\n",
      "   • mc_off_policy        : "
     ]
    },
    {
     "name": "stderr",
     "output_type": "stream",
     "text": [
      "\n",
      "\n",
      "Repétitions mc_off_policy:   0%|                                                                                                                                                                                 | 0/5 [00:00<?, ?it/s]\u001b[A\u001b[A\n",
      "\n",
      "Repétitions mc_off_policy:  20%|█████████████████████████████████▊                                                                                                                                       | 1/5 [00:00<00:00,  7.56it/s]\u001b[A\u001b[A\n",
      "\n",
      "Repétitions mc_off_policy:  40%|███████████████████████████████████████████████████████████████████▌                                                                                                     | 2/5 [00:00<00:00,  7.36it/s]\u001b[A\u001b[A\n",
      "\n",
      "Repétitions mc_off_policy:  60%|█████████████████████████████████████████████████████████████████████████████████████████████████████▍                                                                   | 3/5 [00:00<00:00,  7.35it/s]\u001b[A\u001b[A\n",
      "\n",
      "Repétitions mc_off_policy:  80%|███████████████████████████████████████████████████████████████████████████████████████████████████████████████████████████████████████▏                                 | 4/5 [00:00<00:00,  7.53it/s]\u001b[A\u001b[A\n",
      "\n",
      "Repétitions mc_off_policy: 100%|█████████████████████████████████████████████████████████████████████████████████████████████████████████████████████████████████████████████████████████████████████████| 5/5 [00:00<00:00,  7.42it/s]\u001b[A\u001b[A\n",
      "\n",
      "                                                                                                                                                                                                                                       \u001b[A\u001b[A\n",
      "Algorithmes (montyhall2):  56%|██████████████████████████████████████████████████████████████████████████████████████████████▍                                                                           | 5/9 [00:02<00:01,  2.11it/s]\u001b[A"
     ]
    },
    {
     "name": "stdout",
     "output_type": "stream",
     "text": [
      "Score:  0.640 ± 0.468, Time:  0.13s (moyenne sur 5 runs)\n",
      "   • sarsa                : "
     ]
    },
    {
     "name": "stderr",
     "output_type": "stream",
     "text": [
      "\n",
      "\n",
      "Repétitions sarsa:   0%|                                                                                                                                                                                         | 0/5 [00:00<?, ?it/s]\u001b[A\u001b[A\n",
      "\n",
      "Repétitions sarsa:  60%|██████████████████████████████████████████████████████████████████████████████████████████████████████████▏                                                                      | 3/5 [00:00<00:00, 26.27it/s]\u001b[A\u001b[A\n",
      "\n",
      "                                                                                                                                                                                                                                       \u001b[A\u001b[A\n",
      "Algorithmes (montyhall2):  67%|█████████████████████████████████████████████████████████████████████████████████████████████████████████████████▎                                                        | 6/9 [00:02<00:01,  2.60it/s]\u001b[A"
     ]
    },
    {
     "name": "stdout",
     "output_type": "stream",
     "text": [
      "Score:  0.674 ± 0.461, Time:  0.03s (moyenne sur 5 runs)\n",
      "   • q_learning           : "
     ]
    },
    {
     "name": "stderr",
     "output_type": "stream",
     "text": [
      "\n",
      "\n",
      "Repétitions q_learning:   0%|                                                                                                                                                                                    | 0/5 [00:00<?, ?it/s]\u001b[A\u001b[A\n",
      "\n",
      "Repétitions q_learning:  60%|███████████████████████████████████████████████████████████████████████████████████████████████████████▏                                                                    | 3/5 [00:00<00:00, 23.10it/s]\u001b[A\u001b[A\n",
      "\n",
      "                                                                                                                                                                                                                                       \u001b[A\u001b[A\n",
      "Algorithmes (montyhall2):  78%|████████████████████████████████████████████████████████████████████████████████████████████████████████████████████████████████████▏                                     | 7/9 [00:02<00:00,  2.97it/s]\u001b[A"
     ]
    },
    {
     "name": "stdout",
     "output_type": "stream",
     "text": [
      "Score:  0.620 ± 0.450, Time:  0.04s (moyenne sur 5 runs)\n",
      "   • expected_sarsa       : "
     ]
    },
    {
     "name": "stderr",
     "output_type": "stream",
     "text": [
      "\n",
      "\n",
      "Repétitions expected_sarsa:   0%|                                                                                                                                                                                | 0/5 [00:00<?, ?it/s]\u001b[A\u001b[A\n",
      "\n",
      "Repétitions expected_sarsa:  60%|████████████████████████████████████████████████████████████████████████████████████████████████████▊                                                                   | 3/5 [00:00<00:00, 23.28it/s]\u001b[A\u001b[A\n",
      "\n",
      "                                                                                                                                                                                                                                       \u001b[A\u001b[A\n",
      "Algorithmes (montyhall2):  89%|███████████████████████████████████████████████████████████████████████████████████████████████████████████████████████████████████████████████████████                   | 8/9 [00:02<00:00,  3.32it/s]\u001b[A"
     ]
    },
    {
     "name": "stdout",
     "output_type": "stream",
     "text": [
      "Score:  0.610 ± 0.476, Time:  0.03s (moyenne sur 5 runs)\n",
      "   • dyna_q               : "
     ]
    },
    {
     "name": "stderr",
     "output_type": "stream",
     "text": [
      "\n",
      "\n",
      "Repétitions dyna_q:   0%|                                                                                                                                                                                        | 0/5 [00:00<?, ?it/s]\u001b[A\u001b[A\n",
      "\n",
      "Repétitions dyna_q:  20%|███████████████████████████████████▏                                                                                                                                            | 1/5 [00:00<00:02,  1.80it/s]\u001b[A\u001b[A\n",
      "\n",
      "Repétitions dyna_q:  40%|██████████████████████████████████████████████████████████████████████▍                                                                                                         | 2/5 [00:01<00:01,  1.78it/s]\u001b[A\u001b[A\n",
      "\n",
      "Repétitions dyna_q:  60%|█████████████████████████████████████████████████████████████████████████████████████████████████████████▌                                                                      | 3/5 [00:01<00:01,  1.76it/s]\u001b[A\u001b[A\n",
      "\n",
      "Repétitions dyna_q:  80%|████████████████████████████████████████████████████████████████████████████████████████████████████████████████████████████████████████████▊                                   | 4/5 [00:02<00:00,  1.79it/s]\u001b[A\u001b[A\n",
      "\n",
      "Repétitions dyna_q: 100%|████████████████████████████████████████████████████████████████████████████████████████████████████████████████████████████████████████████████████████████████████████████████| 5/5 [00:02<00:00,  1.81it/s]\u001b[A\u001b[A\n",
      "\n",
      "                                                                                                                                                                                                                                       \u001b[A\u001b[A\n",
      "Algorithmes (montyhall2): 100%|██████████████████████████████████████████████████████████████████████████████████████████████████████████████████████████████████████████████████████████████████████████| 9/9 [00:05<00:00,  1.64it/s]\u001b[A\n",
      "Environnements: 100%|████████████████████████████████████████████████████████████████████████████████████████████████████████████████████████████████████████████████████████████████████████████████████| 5/5 [01:28<00:00, 17.75s/it]"
     ]
    },
    {
     "name": "stdout",
     "output_type": "stream",
     "text": [
      "Score:  0.490 ± 0.490, Time:  0.55s (moyenne sur 5 runs)\n",
      "\n",
      "✅ 37 expériences complétées !\n"
     ]
    },
    {
     "name": "stderr",
     "output_type": "stream",
     "text": [
      "\n"
     ]
    }
   ],
   "source": [
    "from tqdm import tqdm\n",
    "\n",
    "\n",
    "# Exécution de toutes les expériences\n",
    "print(\"🚀 Lancement des expériences...\")\n",
    "print(\"⏱️ Cela peut prendre quelques minutes...\\n\")\n",
    "\n",
    "results = []\n",
    "environments = ['lineworld', 'gridworld', 'rps', 'montyhall1', 'montyhall2']\n",
    "algorithms = ['policy_iteration', 'value_iteration', 'mc_es', 'mc_on_policy', \n",
    "              'mc_off_policy', 'sarsa', 'q_learning', 'expected_sarsa', 'dyna_q']\n",
    "\n",
    "N_REPEATS = 5  # Nombre de répétitions pour moyenne plus stable\n",
    "\n",
    "# Pour chaque combinaison environnement/algorithme\n",
    "for env_name in tqdm(environments, desc='Environnements'):\n",
    "    print(f\"\\n📍 Environnement : {env_name}\")\n",
    "    \n",
    "    for algo_name in tqdm(algorithms, desc=f'Algorithmes ({env_name})'):\n",
    "        try:\n",
    "            print(f\"   • {algo_name:20} : \", end='', flush=True)\n",
    "            \n",
    "            # Certains algorithmes nécessitent moins d'épisodes\n",
    "            params = runner.default_params.copy()\n",
    "            if algo_name in ['policy_iteration', 'value_iteration']:\n",
    "                params['num_episodes'] = 1  # Pas besoin d'épisodes pour DP\n",
    "            elif algo_name == 'dyna_q':\n",
    "                params['num_episodes'] = 500  # Dyna-Q converge plus vite\n",
    "\n",
    "            # Skip certaines combinaisons problématiques\n",
    "            if algo_name == 'mc_es' and env_name in ['lineworld', 'gridworld']:\n",
    "                print(\"SKIPPED (ES non supporté)\")\n",
    "                continue\n",
    "            if algo_name in ['policy_iteration', 'value_iteration'] and env_name in ['rps', 'montyhall1', 'montyhall2']:\n",
    "                print(\"SKIPPED (trop complexe pour DP)\")\n",
    "                continue\n",
    "            \n",
    "            # Multi-run\n",
    "            all_scores, all_stds, all_times = [], [], []\n",
    "            for _ in tqdm(range(N_REPEATS), desc=f'Repétitions {algo_name}', leave=False):\n",
    "                result = runner.run_experiment(env_name, algo_name, params)\n",
    "                all_scores.append(result['mean_score'])\n",
    "                all_stds.append(result['std_score'])\n",
    "                all_times.append(result['training_time'])\n",
    "\n",
    "            mean_score = np.mean(all_scores)\n",
    "            mean_std = np.mean(all_stds)\n",
    "            mean_time = np.mean(all_times)\n",
    "\n",
    "            result = {\n",
    "                'environment': env_name,\n",
    "                'algorithm': algo_name,\n",
    "                'mean_score': mean_score,\n",
    "                'std_score': mean_std,\n",
    "                'training_time': mean_time\n",
    "            }\n",
    "            results.append(result)\n",
    "\n",
    "            print(f\"Score: {mean_score:6.3f} ± {mean_std:5.3f}, \"\n",
    "                  f\"Time: {mean_time:5.2f}s (moyenne sur {N_REPEATS} runs)\")\n",
    "\n",
    "        except Exception as e:\n",
    "            print(f\"ERREUR: {str(e)[:50]}...\")\n",
    "\n",
    "# Créer un DataFrame avec les résultats\n",
    "results_df = pd.DataFrame([\n",
    "    {\n",
    "        'Environment': r['environment'],\n",
    "        'Algorithm': r['algorithm'],\n",
    "        'Mean Score': r['mean_score'],\n",
    "        'Std Score': r['std_score'],\n",
    "        'Training Time': r['training_time']\n",
    "    }\n",
    "    for r in results\n",
    "])\n",
    "\n",
    "print(f\"\\n✅ {len(results)} expériences complétées !\")\n"
   ]
  },
  {
   "cell_type": "markdown",
   "metadata": {},
   "source": [
    "### 4.3 Analyse des résultats"
   ]
  },
  {
   "cell_type": "code",
   "execution_count": 15,
   "metadata": {},
   "outputs": [
    {
     "name": "stdout",
     "output_type": "stream",
     "text": [
      "TABLEAU RÉCAPITULATIF DES PERFORMANCES\n",
      "================================================================================\n"
     ]
    },
    {
     "data": {
      "text/html": [
       "<div>\n",
       "<style scoped>\n",
       "    .dataframe tbody tr th:only-of-type {\n",
       "        vertical-align: middle;\n",
       "    }\n",
       "\n",
       "    .dataframe tbody tr th {\n",
       "        vertical-align: top;\n",
       "    }\n",
       "\n",
       "    .dataframe thead th {\n",
       "        text-align: right;\n",
       "    }\n",
       "</style>\n",
       "<table border=\"1\" class=\"dataframe\">\n",
       "  <thead>\n",
       "    <tr style=\"text-align: right;\">\n",
       "      <th>Environment</th>\n",
       "      <th>gridworld</th>\n",
       "      <th>lineworld</th>\n",
       "      <th>montyhall1</th>\n",
       "      <th>montyhall2</th>\n",
       "      <th>rps</th>\n",
       "    </tr>\n",
       "    <tr>\n",
       "      <th>Algorithm</th>\n",
       "      <th></th>\n",
       "      <th></th>\n",
       "      <th></th>\n",
       "      <th></th>\n",
       "      <th></th>\n",
       "    </tr>\n",
       "  </thead>\n",
       "  <tbody>\n",
       "    <tr>\n",
       "      <th>dyna_q</th>\n",
       "      <td>1.0</td>\n",
       "      <td>1.0</td>\n",
       "      <td>0.614</td>\n",
       "      <td>0.490</td>\n",
       "      <td>0.996</td>\n",
       "    </tr>\n",
       "    <tr>\n",
       "      <th>expected_sarsa</th>\n",
       "      <td>1.0</td>\n",
       "      <td>1.0</td>\n",
       "      <td>0.668</td>\n",
       "      <td>0.610</td>\n",
       "      <td>1.020</td>\n",
       "    </tr>\n",
       "    <tr>\n",
       "      <th>mc_es</th>\n",
       "      <td>NaN</td>\n",
       "      <td>NaN</td>\n",
       "      <td>0.322</td>\n",
       "      <td>0.226</td>\n",
       "      <td>0.924</td>\n",
       "    </tr>\n",
       "    <tr>\n",
       "      <th>mc_off_policy</th>\n",
       "      <td>0.0</td>\n",
       "      <td>0.0</td>\n",
       "      <td>0.668</td>\n",
       "      <td>0.640</td>\n",
       "      <td>1.042</td>\n",
       "    </tr>\n",
       "    <tr>\n",
       "      <th>mc_on_policy</th>\n",
       "      <td>0.0</td>\n",
       "      <td>1.0</td>\n",
       "      <td>0.630</td>\n",
       "      <td>0.590</td>\n",
       "      <td>1.004</td>\n",
       "    </tr>\n",
       "    <tr>\n",
       "      <th>policy_iteration</th>\n",
       "      <td>0.0</td>\n",
       "      <td>0.0</td>\n",
       "      <td>NaN</td>\n",
       "      <td>NaN</td>\n",
       "      <td>NaN</td>\n",
       "    </tr>\n",
       "    <tr>\n",
       "      <th>q_learning</th>\n",
       "      <td>1.0</td>\n",
       "      <td>1.0</td>\n",
       "      <td>0.654</td>\n",
       "      <td>0.620</td>\n",
       "      <td>0.984</td>\n",
       "    </tr>\n",
       "    <tr>\n",
       "      <th>sarsa</th>\n",
       "      <td>1.0</td>\n",
       "      <td>1.0</td>\n",
       "      <td>0.660</td>\n",
       "      <td>0.674</td>\n",
       "      <td>1.042</td>\n",
       "    </tr>\n",
       "    <tr>\n",
       "      <th>value_iteration</th>\n",
       "      <td>0.0</td>\n",
       "      <td>0.0</td>\n",
       "      <td>NaN</td>\n",
       "      <td>NaN</td>\n",
       "      <td>NaN</td>\n",
       "    </tr>\n",
       "  </tbody>\n",
       "</table>\n",
       "</div>"
      ],
      "text/plain": [
       "Environment       gridworld  lineworld  montyhall1  montyhall2    rps\n",
       "Algorithm                                                            \n",
       "dyna_q                  1.0        1.0       0.614       0.490  0.996\n",
       "expected_sarsa          1.0        1.0       0.668       0.610  1.020\n",
       "mc_es                   NaN        NaN       0.322       0.226  0.924\n",
       "mc_off_policy           0.0        0.0       0.668       0.640  1.042\n",
       "mc_on_policy            0.0        1.0       0.630       0.590  1.004\n",
       "policy_iteration        0.0        0.0         NaN         NaN    NaN\n",
       "q_learning              1.0        1.0       0.654       0.620  0.984\n",
       "sarsa                   1.0        1.0       0.660       0.674  1.042\n",
       "value_iteration         0.0        0.0         NaN         NaN    NaN"
      ]
     },
     "metadata": {},
     "output_type": "display_data"
    },
    {
     "name": "stdout",
     "output_type": "stream",
     "text": [
      "\n",
      "MEILLEUR ALGORITHME PAR ENVIRONNEMENT :\n",
      "   lineworld    → mc_on_policy         (Score: 1.000)\n",
      "   gridworld    → sarsa                (Score: 1.000)\n",
      "   rps          → mc_off_policy        (Score: 1.042)\n",
      "   montyhall1   → expected_sarsa       (Score: 0.668)\n",
      "   montyhall2   → sarsa                (Score: 0.674)\n"
     ]
    }
   ],
   "source": [
    "# Tableau récapitulatif des performances\n",
    "print(\"TABLEAU RÉCAPITULATIF DES PERFORMANCES\")\n",
    "print(\"=\" * 80)\n",
    "\n",
    "# Pivot table pour une meilleure lisibilité\n",
    "pivot_scores = results_df.pivot_table(\n",
    "    values='Mean Score', \n",
    "    index='Algorithm', \n",
    "    columns='Environment',\n",
    "    aggfunc='mean'\n",
    ").round(3)\n",
    "\n",
    "display(pivot_scores)\n",
    "\n",
    "# Meilleur algorithme par environnement\n",
    "print(\"\\nMEILLEUR ALGORITHME PAR ENVIRONNEMENT :\")\n",
    "for env in environments:\n",
    "    env_results = results_df[results_df['Environment'] == env]\n",
    "    if not env_results.empty:\n",
    "        best = env_results.loc[env_results['Mean Score'].idxmax()]\n",
    "        print(f\"   {env:12} → {best['Algorithm']:20} (Score: {best['Mean Score']:.3f})\")"
   ]
  },
  {
   "cell_type": "code",
   "execution_count": 16,
   "metadata": {},
   "outputs": [
    {
     "data": {
      "image/png": "[encoded data removed]",
      "text/plain": [
       "<Figure size 1600x1200 with 5 Axes>"
      ]
     },
     "metadata": {},
     "output_type": "display_data"
    }
   ],
   "source": [
    "# Visualisations des performances\n",
    "fig, axes = plt.subplots(2, 2, figsize=(16, 12))\n",
    "\n",
    "# 1. Heatmap des performances\n",
    "ax = axes[0, 0]\n",
    "sns.heatmap(pivot_scores, annot=True, fmt=\".3f\", cmap=\"viridis\", \n",
    "            cbar_kws={'label': 'Score moyen'}, ax=ax)\n",
    "ax.set_title(\"Heatmap des Performances\", fontsize=14, fontweight='bold')\n",
    "ax.set_xlabel(\"Environnement\")\n",
    "ax.set_ylabel(\"Algorithme\")\n",
    "\n",
    "# 2. Temps d'entraînement par algorithme\n",
    "ax = axes[0, 1]\n",
    "time_by_algo = results_df.groupby('Algorithm')['Training Time'].mean().sort_values()\n",
    "time_by_algo.plot(kind='barh', ax=ax, color='coral')\n",
    "ax.set_xlabel(\"Temps moyen (secondes)\")\n",
    "ax.set_title(\"Temps d'Entraînement par Algorithme\", fontsize=14, fontweight='bold')\n",
    "ax.grid(True, alpha=0.3)\n",
    "\n",
    "# 3. Performance par famille d'algorithmes\n",
    "ax = axes[1, 0]\n",
    "# Mapper les algorithmes aux familles\n",
    "algo_families = {\n",
    "    'policy_iteration': 'Dynamic Programming',\n",
    "    'value_iteration': 'Dynamic Programming',\n",
    "    'mc_es': 'Monte Carlo',\n",
    "    'mc_on_policy': 'Monte Carlo',\n",
    "    'mc_off_policy': 'Monte Carlo',\n",
    "    'sarsa': 'Temporal Difference',\n",
    "    'q_learning': 'Temporal Difference',\n",
    "    'expected_sarsa': 'Temporal Difference',\n",
    "    'dyna_q': 'Planning'\n",
    "}\n",
    "results_df['Family'] = results_df['Algorithm'].map(algo_families)\n",
    "family_perf = results_df.groupby('Family')['Mean Score'].mean().sort_values(ascending=False)\n",
    "family_perf.plot(kind='bar', ax=ax, color='skyblue')\n",
    "ax.set_ylabel(\"Score moyen\")\n",
    "ax.set_title(\"Performance Moyenne par Famille d'Algorithmes\", fontsize=14, fontweight='bold')\n",
    "ax.tick_params(axis='x', rotation=45)\n",
    "ax.grid(True, alpha=0.3)\n",
    "\n",
    "# 4. Variance des performances\n",
    "ax = axes[1, 1]\n",
    "for env in environments:\n",
    "    env_data = results_df[results_df['Environment'] == env]\n",
    "    if not env_data.empty:\n",
    "        ax.scatter(env_data['Mean Score'], env_data['Std Score'], \n",
    "                  label=env, s=100, alpha=0.7)\n",
    "ax.set_xlabel(\"Score moyen\")\n",
    "ax.set_ylabel(\"Écart-type\")\n",
    "ax.set_title(\"Stabilité des Algorithmes (Score vs Variance)\", fontsize=14, fontweight='bold')\n",
    "ax.legend()\n",
    "ax.grid(True, alpha=0.3)\n",
    "\n",
    "plt.tight_layout()\n",
    "plt.show()"
   ]
  },
  {
   "cell_type": "markdown",
   "metadata": {},
   "source": [
    "## 5. Étude des Hyperparamètres <a id=\"hyperparametres\"></a>\n",
    "\n",
    "### 5.1 Impact du Learning Rate (α)"
   ]
  },
  {
   "cell_type": "code",
   "execution_count": 17,
   "metadata": {},
   "outputs": [
    {
     "name": "stdout",
     "output_type": "stream",
     "text": [
      "Étude de l'impact du learning rate (α) sur Q-Learning...\n",
      "\n",
      "Testing α = 0.01 : Score: 1.000\n",
      "Testing α = 0.05 : Score: 1.000\n",
      "Testing α = 0.10 : Score: 1.000\n",
      "Testing α = 0.20 : Score: 1.000\n",
      "Testing α = 0.50 : Score: 0.000\n",
      "Testing α = 0.90 : Score: 0.000\n"
     ]
    },
    {
     "data": {
      "image/png": "[encoded data removed]",
      "text/plain": [
       "<Figure size 1400x500 with 2 Axes>"
      ]
     },
     "metadata": {},
     "output_type": "display_data"
    },
    {
     "name": "stdout",
     "output_type": "stream",
     "text": [
      "\n",
      "ANALYSE :\n",
      "   • Meilleur α pour la performance : 0.01 (Score: 1.000)\n",
      "   • α trop petit (< 0.05) : apprentissage trop lent\n",
      "   • α trop grand (> 0.5) : instabilité et convergence dégradée\n"
     ]
    }
   ],
   "source": [
    "# Étude de l'impact du learning rate sur Q-Learning\n",
    "print(\"Étude de l'impact du learning rate (α) sur Q-Learning...\\n\")\n",
    "\n",
    "alpha_values = [0.01, 0.05, 0.1, 0.2, 0.5, 0.9]\n",
    "alpha_results = []\n",
    "\n",
    "# Test sur GridWorld\n",
    "for alpha in alpha_values:\n",
    "    print(f\"Testing α = {alpha:4.2f} : \", end='', flush=True)\n",
    "    \n",
    "    params = runner.default_params.copy()\n",
    "    params['alpha'] = alpha\n",
    "    params['num_episodes'] = 500  # Moins d'épisodes pour accélérer\n",
    "    \n",
    "    result = runner.run_experiment('gridworld', 'q_learning', params)\n",
    "    alpha_results.append({\n",
    "        'Alpha': alpha,\n",
    "        'Mean Score': result['mean_score'],\n",
    "        'Std Score': result['std_score'],\n",
    "        'Time': result['training_time']\n",
    "    })\n",
    "    \n",
    "    print(f\"Score: {result['mean_score']:.3f}\")\n",
    "\n",
    "alpha_df = pd.DataFrame(alpha_results)\n",
    "\n",
    "# Visualisation\n",
    "fig, (ax1, ax2) = plt.subplots(1, 2, figsize=(14, 5))\n",
    "\n",
    "# Performance vs Alpha\n",
    "ax1.plot(alpha_df['Alpha'], alpha_df['Mean Score'], 'o-', linewidth=2, markersize=8)\n",
    "ax1.fill_between(alpha_df['Alpha'], \n",
    "                 alpha_df['Mean Score'] - alpha_df['Std Score'],\n",
    "                 alpha_df['Mean Score'] + alpha_df['Std Score'],\n",
    "                 alpha=0.3)\n",
    "ax1.set_xlabel('Learning Rate (α)')\n",
    "ax1.set_ylabel('Score moyen')\n",
    "ax1.set_title('Impact du Learning Rate sur la Performance')\n",
    "ax1.grid(True, alpha=0.3)\n",
    "\n",
    "# Stabilité vs Alpha\n",
    "ax2.plot(alpha_df['Alpha'], alpha_df['Std Score'], 'o-', color='red', linewidth=2, markersize=8)\n",
    "ax2.set_xlabel('Learning Rate (α)')\n",
    "ax2.set_ylabel('Écart-type du score')\n",
    "ax2.set_title('Impact du Learning Rate sur la Stabilité')\n",
    "ax2.grid(True, alpha=0.3)\n",
    "\n",
    "plt.tight_layout()\n",
    "plt.show()\n",
    "\n",
    "# Analyse\n",
    "best_alpha = alpha_df.loc[alpha_df['Mean Score'].idxmax()]\n",
    "print(f\"\\nANALYSE :\")\n",
    "print(f\"   • Meilleur α pour la performance : {best_alpha['Alpha']} (Score: {best_alpha['Mean Score']:.3f})\")\n",
    "print(f\"   • α trop petit (< 0.05) : apprentissage trop lent\")\n",
    "print(f\"   • α trop grand (> 0.5) : instabilité et convergence dégradée\")"
   ]
  },
  {
   "cell_type": "markdown",
   "metadata": {},
   "source": [
    "### 5.2 Impact de l'Exploration (ε)"
   ]
  },
  {
   "cell_type": "code",
   "execution_count": null,
   "metadata": {},
   "outputs": [],
   "source": [
    "# Étude de différentes stratégies d'exploration\n",
    "print(\"Étude de l'impact de la stratégie d'exploration...\\n\")\n",
    "\n",
    "exploration_strategies = [\n",
    "    {'name': 'Forte décroissance', 'epsilon_start': 1.0, 'epsilon_decay': 0.99},\n",
    "    {'name': 'Décroissance moyenne', 'epsilon_start': 1.0, 'epsilon_decay': 0.995},\n",
    "    {'name': 'Faible décroissance', 'epsilon_start': 1.0, 'epsilon_decay': 0.999},\n",
    "    {'name': 'Exploration constante', 'epsilon_start': 0.1, 'epsilon_decay': 1.0},\n",
    "]\n",
    "\n",
    "exploration_results = []\n",
    "\n",
    "for strategy in exploration_strategies:\n",
    "    print(f\"Testing {strategy['name']:20} : \", end='', flush=True)\n",
    "    \n",
    "    params = runner.default_params.copy()\n",
    "    params['epsilon_start'] = strategy['epsilon_start']\n",
    "    params['epsilon_decay'] = strategy['epsilon_decay']\n",
    "    params['num_episodes'] = 500\n",
    "    \n",
    "    result = runner.run_experiment('gridworld', 'sarsa', params)\n",
    "    exploration_results.append({\n",
    "        'Strategy': strategy['name'],\n",
    "        'Mean Score': result['mean_score'],\n",
    "        'Std Score': result['std_score']\n",
    "    })\n",
    "    \n",
    "    print(f\"Score: {result['mean_score']:.3f}\")\n",
    "\n",
    "# Visualisation\n",
    "exploration_df = pd.DataFrame(exploration_results)\n",
    "\n",
    "plt.figure(figsize=(10, 6))\n",
    "x = range(len(exploration_df))\n",
    "plt.bar(x, exploration_df['Mean Score'], yerr=exploration_df['Std Score'], \n",
    "        capsize=10, color='lightgreen', edgecolor='darkgreen', linewidth=2)\n",
    "plt.xticks(x, exploration_df['Strategy'], rotation=45)\n",
    "plt.ylabel('Score moyen')\n",
    "plt.title('Impact de la Stratégie d\\'Exploration sur SARSA')\n",
    "plt.grid(True, alpha=0.3, axis='y')\n",
    "plt.tight_layout()\n",
    "plt.show()\n",
    "\n",
    "print(\"\\nCONCLUSION : Une décroissance moyenne de l'exploration offre le meilleur compromis\")"
   ]
  },
  {
   "cell_type": "markdown",
   "metadata": {},
   "source": [
    "### 5.3 Impact de la Planification (Dyna-Q)"
   ]
  },
  {
   "cell_type": "code",
   "execution_count": null,
   "metadata": {},
   "outputs": [],
   "source": [
    "# Étude du nombre d'étapes de planification dans Dyna-Q\n",
    "print(\"Étude de l'impact du nombre d'étapes de planification...\\n\")\n",
    "\n",
    "planning_steps = [0, 5, 10, 25, 50, 100]\n",
    "planning_results = []\n",
    "\n",
    "for n_steps in planning_steps:\n",
    "    print(f\"Testing {n_steps:3d} planning steps : \", end='', flush=True)\n",
    "    \n",
    "    params = runner.default_params.copy()\n",
    "    params['n_planning_steps'] = n_steps\n",
    "    params['num_episodes'] = 200  # Moins d'épisodes car Dyna-Q converge vite\n",
    "    \n",
    "    start_time = time.time()\n",
    "    result = runner.run_experiment('gridworld', 'dyna_q', params)\n",
    "    \n",
    "    planning_results.append({\n",
    "        'Planning Steps': n_steps,\n",
    "        'Mean Score': result['mean_score'],\n",
    "        'Training Time': result['training_time'],\n",
    "        'Efficiency': result['mean_score'] / result['training_time']  # Score par seconde\n",
    "    })\n",
    "    \n",
    "    print(f\"Score: {result['mean_score']:.3f}, Time: {result['training_time']:.2f}s\")\n",
    "\n",
    "planning_df = pd.DataFrame(planning_results)\n",
    "\n",
    "# Visualisation\n",
    "fig, (ax1, ax2, ax3) = plt.subplots(1, 3, figsize=(18, 5))\n",
    "\n",
    "# Performance vs Planning Steps\n",
    "ax1.plot(planning_df['Planning Steps'], planning_df['Mean Score'], \n",
    "         'o-', linewidth=2, markersize=8, color='blue')\n",
    "ax1.set_xlabel('Nombre d\\'étapes de planification')\n",
    "ax1.set_ylabel('Score moyen')\n",
    "ax1.set_title('Performance vs Planification')\n",
    "ax1.grid(True, alpha=0.3)\n",
    "\n",
    "# Temps vs Planning Steps\n",
    "ax2.plot(planning_df['Planning Steps'], planning_df['Training Time'], \n",
    "         'o-', linewidth=2, markersize=8, color='orange')\n",
    "ax2.set_xlabel('Nombre d\\'étapes de planification')\n",
    "ax2.set_ylabel('Temps d\\'entraînement (s)')\n",
    "ax2.set_title('Coût Computationnel vs Planification')\n",
    "ax2.grid(True, alpha=0.3)\n",
    "\n",
    "# Efficacité\n",
    "ax3.plot(planning_df['Planning Steps'], planning_df['Efficiency'], \n",
    "         'o-', linewidth=2, markersize=8, color='green')\n",
    "ax3.set_xlabel('Nombre d\\'étapes de planification')\n",
    "ax3.set_ylabel('Efficacité (score/seconde)')\n",
    "ax3.set_title('Efficacité vs Planification')\n",
    "ax3.grid(True, alpha=0.3)\n",
    "\n",
    "plt.tight_layout()\n",
    "plt.show()\n",
    "\n",
    "# Analyse\n",
    "best_efficiency = planning_df.loc[planning_df['Efficiency'].idxmax()]\n",
    "print(f\"\\nANALYSE :\")\n",
    "print(f\"   • Meilleure efficacité : {best_efficiency['Planning Steps']} étapes\")\n",
    "print(f\"   • Au-delà de 50 étapes, peu de gain en performance\")\n",
    "print(f\"   • Le coût computationnel augmente linéairement\")"
   ]
  },
  {
   "cell_type": "markdown",
   "metadata": {},
   "source": [
    "## 6. Analyse Comparative <a id=\"analyse\"></a>\n",
    "\n",
    "### 6.1 Analyse par environnement"
   ]
  },
  {
   "cell_type": "code",
   "execution_count": null,
   "metadata": {},
   "outputs": [],
   "source": [
    "# Analyse détaillée pour chaque environnement\n",
    "for env_name in environments:\n",
    "    print(f\"\\n{'='*60}\")\n",
    "    print(f\"ANALYSE DÉTAILLÉE : {env_name.upper()}\")\n",
    "    print(f\"{'='*60}\")\n",
    "    \n",
    "    env_data = results_df[results_df['Environment'] == env_name]\n",
    "    \n",
    "    if len(env_data) == 0:\n",
    "        print(\"Aucune donnée disponible\")\n",
    "        continue\n",
    "    \n",
    "    # Top 3 algorithmes\n",
    "    top3 = env_data.nlargest(3, 'Mean Score')\n",
    "    print(\"\\nTOP 3 ALGORITHMES :\")\n",
    "    for i, (_, row) in enumerate(top3.iterrows(), 1):\n",
    "        print(f\"   {i}. {row['Algorithm']:20} | Score: {row['Mean Score']:6.3f} ± {row['Std Score']:.3f} | \"\n",
    "              f\"Temps: {row['Training Time']:5.2f}s\")\n",
    "    \n",
    "    # Analyse par famille\n",
    "    family_analysis = env_data.groupby('Family')['Mean Score'].agg(['mean', 'std', 'count'])\n",
    "    print(\"\\nPERFORMANCE PAR FAMILLE :\")\n",
    "    for family, stats in family_analysis.iterrows():\n",
    "        print(f\"   • {family:20} : {stats['mean']:6.3f} (n={stats['count']})\")\n",
    "    \n",
    "    # Recommandation\n",
    "    best = env_data.loc[env_data['Mean Score'].idxmax()]\n",
    "    print(f\"\\nRECOMMANDATION : {best['Algorithm']}\")\n",
    "    \n",
    "    # Justification spécifique\n",
    "    if env_name == 'lineworld':\n",
    "        print(\"   Justification : Environnement simple et déterministe, tous les algorithmes convergent\")\n",
    "    elif env_name == 'gridworld':\n",
    "        print(\"   Justification : Espace d'états modéré, bénéficie de la planification\")\n",
    "    elif env_name == 'rps':\n",
    "        print(\"   Justification : Environnement stochastique avec stratégie cachée\")\n",
    "    elif env_name == 'montyhall1':\n",
    "        print(\"   Justification : Problème de décision séquentielle avec information partielle\")"
   ]
  },
  {
   "cell_type": "markdown",
   "metadata": {},
   "source": [
    "### 6.2 Synthèse des forces et faiblesses"
   ]
  },
  {
   "cell_type": "code",
   "execution_count": null,
   "metadata": {},
   "outputs": [],
   "source": [
    "# Tableau des forces et faiblesses\n",
    "strengths_weaknesses = pd.DataFrame([\n",
    "    {\n",
    "        'Algorithme': 'Policy Iteration',\n",
    "        'Forces': 'Convergence garantie, Optimal',\n",
    "        'Faiblesses': 'Nécessite le modèle, Coûteux en mémoire',\n",
    "        'Cas d\\'usage': 'Petits MDPs déterministes'\n",
    "    },\n",
    "    {\n",
    "        'Algorithme': 'Value Iteration',\n",
    "        'Forces': 'Plus simple que PI, Optimal',\n",
    "        'Faiblesses': 'Nécessite le modèle, Convergence plus lente',\n",
    "        'Cas d\\'usage': 'MDPs avec horizon long'\n",
    "    },\n",
    "    {\n",
    "        'Algorithme': 'Monte Carlo ES',\n",
    "        'Forces': 'Sans modèle, Exploration garantie',\n",
    "        'Faiblesses': 'Nécessite états de départ variés',\n",
    "        'Cas d\\'usage': 'Simulation possible partout'\n",
    "    },\n",
    "    {\n",
    "        'Algorithme': 'SARSA',\n",
    "        'Forces': 'On-policy (plus sûr), TD bootstrapping',\n",
    "        'Faiblesses': 'Convergence plus lente que Q-Learning',\n",
    "        'Cas d\\'usage': 'Apprentissage en ligne sécurisé'\n",
    "    },\n",
    "    {\n",
    "        'Algorithme': 'Q-Learning',\n",
    "        'Forces': 'Off-policy, Convergence vers Q*',\n",
    "        'Faiblesses': 'Peut sur-estimer les valeurs',\n",
    "        'Cas d\\'usage': 'Standard pour la plupart des cas'\n",
    "    },\n",
    "    {\n",
    "        'Algorithme': 'Dyna-Q',\n",
    "        'Forces': 'Combine expérience et planification',\n",
    "        'Faiblesses': 'Coût computationnel élevé',\n",
    "        'Cas d\\'usage': 'Quand on peut apprendre un modèle'\n",
    "    }\n",
    "])\n",
    "\n",
    "print(\"TABLEAU DES FORCES ET FAIBLESSES\\n\")\n",
    "strengths_weaknesses.rename(columns={\"Cas d'usage\": \"Cas_usage\"}, inplace=True)\n",
    "for _, row in strengths_weaknesses.iterrows():\n",
    "    print(f\"{row['Algorithme']}\")\n",
    "    print(f\"   Forces : {row['Forces']}\")\n",
    "    print(f\"   Faiblesses : {row['Faiblesses']}\")\n",
    "    print(f\"   Cas d'usage : {row['Cas_usage']}\")\n",
    "    print()"
   ]
  },
  {
   "cell_type": "code",
   "execution_count": null,
   "metadata": {},
   "outputs": [],
   "source": [
    "print(\"SYNTHÈSE FINALE DES RÉSULTATS\")\n",
    "print(\"=\" * 60)\n",
    "\n",
    "# Classement global\n",
    "global_ranking = results_df.groupby('Algorithm')['Mean Score'].mean().sort_values(ascending=False)\n",
    "print(\"\\nCLASSEMENT GLOBAL (score moyen sur tous les environnements) :\")\n",
    "for i, (algo, score) in enumerate(global_ranking.items(), 1):\n",
    "    print(f\"   {i:2d}. {algo:20} : {score:6.3f}\")\n",
    "\n",
    "# Recommandations finales\n",
    "print(\"\\nRECOMMANDATIONS FINALES :\")\n",
    "print(\"\\n1. CHOIX D'ALGORITHME :\")\n",
    "print(\"   • Environnement simple et petit → Dynamic Programming (optimal)\")\n",
    "print(\"   • Environnement moyen, déterministe → Dyna-Q (meilleur compromis)\")\n",
    "print(\"   • Environnement stochastique → Q-Learning ou Expected SARSA\")\n",
    "print(\"   • Apprentissage en ligne sécurisé → SARSA\")\n",
    "\n",
    "print(\"\\n2. HYPERPARAMÈTRES RECOMMANDÉS :\")\n",
    "print(\"   • Learning rate (α) : 0.1 - 0.2\")\n",
    "print(\"   • Discount factor (γ) : 0.9 - 1.0 selon l'horizon\")\n",
    "print(\"   • Exploration : ε₀=1.0, decay=0.995\")\n",
    "print(\"   • Planning (Dyna-Q) : 25-50 étapes\")\n",
    "\n",
    "print(\"\\n3. INSIGHTS CLÉS :\")\n",
    "print(\"   • Q-Learning offre le meilleur équilibre performance/simplicité\")\n",
    "print(\"   • Dyna-Q excelle quand on peut apprendre un bon modèle\")\n",
    "print(\"   • Les méthodes Monte Carlo souffrent sur les horizons longs\")\n",
    "print(\"   • Expected SARSA est plus stable que SARSA classique\")\n",
    "\n",
    "print(\"\\n4. PIÈGES À ÉVITER :\")\n",
    "print(\"   • Learning rate trop élevé → instabilité\")\n",
    "print(\"   • Exploration insuffisante → convergence prématurée\")\n",
    "print(\"   • Trop de planification → coût computationnel prohibitif\")\n",
    "print(\"   • Ignorer la nature de l'environnement → mauvais choix d'algorithme\")"
   ]
  },
  {
   "cell_type": "code",
   "execution_count": null,
   "metadata": {},
   "outputs": [],
   "source": []
  }
 ],
 "metadata": {
  "kernelspec": {
   "display_name": "Python 3 (ipykernel)",
   "language": "python",
   "name": "python3"
  },
  "language_info": {
   "codemirror_mode": {
    "name": "ipython",
    "version": 3
   },
   "file_extension": ".py",
   "mimetype": "text/x-python",
   "name": "python",
   "nbconvert_exporter": "python",
   "pygments_lexer": "ipython3",
   "version": "3.9.13"
  }
 },
 "nbformat": 4,
 "nbformat_minor": 4
}
